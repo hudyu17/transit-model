{
 "cells": [
  {
   "attachments": {},
   "cell_type": "markdown",
   "metadata": {},
   "source": [
    "# Retrieving NTD Ridership Data\n",
    "\n",
    "This notebook explores how to download ridership data from the National Transit Database. Data Source from the [American Public Transportation Association.](https://www.apta.com/research-technical-resources/transit-statistics/ntd-data-tables/)"
   ]
  },
  {
   "cell_type": "code",
   "execution_count": 5,
   "metadata": {},
   "outputs": [],
   "source": [
    "# https://www.apta.com/wp-content/uploads/2020-National-Transit-Database.zip\n",
    "\n",
    "import os\n",
    "import pandas as pd\n",
    "from io import BytesIO\n",
    "from zipfile import ZipFile\n",
    "import requests"
   ]
  },
  {
   "cell_type": "code",
   "execution_count": 84,
   "metadata": {},
   "outputs": [],
   "source": [
    "# Set up some variables for the years of interest and the output directory\n",
    "years = [2013] + list(range(2015, 2021))\n",
    "output_dir = '../data/raw/ntd-ridership'"
   ]
  },
  {
   "attachments": {},
   "cell_type": "markdown",
   "metadata": {},
   "source": [
    "Note some differences in filepaths:\n",
    "- 2013: `2013-National-Transit-Database/2013-Table-19-Transit-Operating-Stats.xls`\n",
    "- ~~2014: `2014-National-Transit-Database/2014-Table-19-Transit-Operating-Stats.xls`~~ *Error with macros, download manually*\n",
    "- 2015: `2015-NTD-Tables-APTA/Metrics.xlsm`\n",
    "- 2016: `2016-National-Transit-Database/2016-NTD-Metrics_0.xlsx`\n",
    "- 2017: `2017-National-Transit-Database/Metrics_1.xlsm`\n",
    "- 2018: `2018-National-Transit-Database/Metrics_2.xlsx`\n",
    "- 2019: `2019_Annual_Database_Files/Metrics_Static.xlsx`\n",
    "- 2020: `2020_Annual_Database_Files/Metrics_Static.xlsx`"
   ]
  },
  {
   "cell_type": "code",
   "execution_count": 58,
   "metadata": {},
   "outputs": [],
   "source": [
    "file_paths = {\n",
    "    2013: '2013-Table-19-Transit-Operating-Stats.xls',\n",
    "    2014: '2014-Table-19-Transit-Operating-Stats.xls',\n",
    "    2015: 'Metrics.xlsm',\n",
    "    2016: '2016-NTD-Metrics_0.xlsx',\n",
    "    2017: 'Metrics_1.xlsm',\n",
    "    2018: 'Metrics_2.xlsx',\n",
    "    2019: '2019_Annual_Database_Files/Metrics_Static.xlsx',\n",
    "    2020: '2020_Annual_Database_Files/Metrics_Static.xlsx'\n",
    "}"
   ]
  },
  {
   "cell_type": "code",
   "execution_count": 81,
   "metadata": {},
   "outputs": [],
   "source": [
    "def get_zip(year):\n",
    "    if year == 2017:\n",
    "        url = requests.get('https://www.apta.com/wp-content/uploads/Resources/resources/statistics/Documents/NTD_Data/2017-National-Transit-Database.zip')\n",
    "    elif year == 2015:\n",
    "        url = requests.get('https://www.apta.com/wp-content/uploads/2015-NTD-Tables-APTA.zip')\n",
    "    else:\n",
    "        url = requests.get(f'https://www.apta.com/wp-content/uploads/{year}-National-Transit-Database.zip')\n",
    "\n",
    "    zipfile = ZipFile(BytesIO(url.content))\n",
    "\n",
    "    with zipfile.open(file_paths[year]) as f:\n",
    "        if year == 2013:\n",
    "            df = pd.read_excel(f, sheet_name=\"Op_Stats_Service\", skiprows=[0])\n",
    "        # elif year == 2014:\n",
    "        #     df = pd.read_excel(f, sheet_name=\"Op_Stats_Service\", skiprows=[0, 3])\n",
    "        else:\n",
    "            df = pd.read_excel(f, sheet_name=\"Metrics\")\n",
    "\n",
    "    # Filter the DataFrame to rows where column J == 'RB'\n",
    "    df_filtered = df[df[\"Mode\"] == \"RB\"]\n",
    "\n",
    "    # Save the filtered data to a new CSV file\n",
    "    output_file = os.path.join(output_dir, f'transit_data_{year}_filtered.csv')\n",
    "    df_filtered.to_csv(output_file, index=False)"
   ]
  },
  {
   "cell_type": "code",
   "execution_count": 85,
   "metadata": {},
   "outputs": [
    {
     "name": "stdout",
     "output_type": "stream",
     "text": [
      "2013\n",
      "2015\n",
      "2016\n",
      "2017\n",
      "2018\n",
      "2019\n",
      "2020\n"
     ]
    }
   ],
   "source": [
    "for year in years:\n",
    "    print(year)\n",
    "    get_zip(year)"
   ]
  },
  {
   "cell_type": "code",
   "execution_count": 50,
   "metadata": {},
   "outputs": [],
   "source": [
    "# url = requests.get(f'https://www.apta.com/wp-content/uploads/2013-National-Transit-Database.zip')\n",
    "# zipfile = ZipFile(BytesIO(url.content))"
   ]
  },
  {
   "attachments": {},
   "cell_type": "markdown",
   "metadata": {},
   "source": [
    "**Manual cleaning required for 2013 and 2014:** \n",
    "- In the **2014** CSV, `Column O` onward is split because of prior cells being merged. Take the second row for these cols and override the first\n",
    "- Take these same headings and override the first row of the **2013** CSV from `Column M` onward"
   ]
  },
  {
   "cell_type": "markdown",
   "metadata": {},
   "source": []
  }
 ],
 "metadata": {
  "kernelspec": {
   "display_name": ".venv",
   "language": "python",
   "name": "python3"
  },
  "language_info": {
   "codemirror_mode": {
    "name": "ipython",
    "version": 3
   },
   "file_extension": ".py",
   "mimetype": "text/x-python",
   "name": "python",
   "nbconvert_exporter": "python",
   "pygments_lexer": "ipython3",
   "version": "3.11.3"
  },
  "orig_nbformat": 4
 },
 "nbformat": 4,
 "nbformat_minor": 2
}
