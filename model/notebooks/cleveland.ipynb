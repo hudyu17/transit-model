{
 "cells": [
  {
   "attachments": {},
   "cell_type": "markdown",
   "metadata": {},
   "source": [
    "# Data for Cleveland Healthline ZIP Codes\n",
    "\n",
    "This notebook retrieves data for the following ZIP Codes near the Cleveland Healthline BRT: `44112, 44104, 44103, 44106, 44114`.\n",
    "\n",
    "Data Sources: \n",
    "- Income: `Table S1901` of the *American Community Survey*, 2013-2020 (same range as *National Transit Database Tables*)\n",
    "- "
   ]
  },
  {
   "cell_type": "code",
   "execution_count": 3,
   "metadata": {},
   "outputs": [],
   "source": [
    "import requests\n",
    "import json\n",
    "import pandas as pd"
   ]
  },
  {
   "attachments": {},
   "cell_type": "markdown",
   "metadata": {},
   "source": [
    "Defining helper functions - TODO: will need to use these in other directories so eventually move this out"
   ]
  },
  {
   "cell_type": "code",
   "execution_count": 10,
   "metadata": {},
   "outputs": [],
   "source": [
    "def fetch_api_data(url: str) -> dict:\n",
    "    \"\"\"\n",
    "    Fetches data from an API endpoint and returns the response in JSON format.\n",
    "\n",
    "    Parameters:\n",
    "    url (str): The URL of the API endpoint to fetch data from.\n",
    "\n",
    "    Returns:\n",
    "    dict: A dictionary containing the JSON response from the API endpoint.\n",
    "    \"\"\"\n",
    "    # make the API request\n",
    "    response = requests.get(url)\n",
    "    \n",
    "    return response.json()\n",
    "\n",
    "# A more comprehensive function - haven't called yet - might actually be too complex\n",
    "def fetch_census_data(years, zipcodes, url, df):\n",
    "    for year in years:\n",
    "        for zipcode in zipcodes:\n",
    "            res = requests.get(url)\n",
    "            res = res.json()\n",
    "\n",
    "            df = pd.DataFrame.from_dict(res)\n",
    "            income = df['response']['data'][1][161]\n",
    "\n",
    "            df.loc[year][zipcode] = income\n"
   ]
  },
  {
   "cell_type": "code",
   "execution_count": 5,
   "metadata": {},
   "outputs": [
    {
     "name": "stdout",
     "output_type": "stream",
     "text": [
      "['2013', '2014', '2015', '2016', '2017', '2018', '2019', '2020']\n"
     ]
    }
   ],
   "source": [
    "# Defining constants\n",
    "\n",
    "years = list(map(str, [x for x in range(2013, 2021)]))\n",
    "print(years)\n",
    "\n",
    "zipcodes = ['44112', '44104', '44103', '44106', '44114']"
   ]
  },
  {
   "attachments": {},
   "cell_type": "markdown",
   "metadata": {},
   "source": [
    "## Income"
   ]
  },
  {
   "cell_type": "code",
   "execution_count": 6,
   "metadata": {},
   "outputs": [
    {
     "name": "stdout",
     "output_type": "stream",
     "text": [
      "     44112 44104 44103 44106 44114\n",
      "2013   NaN   NaN   NaN   NaN   NaN\n",
      "2014   NaN   NaN   NaN   NaN   NaN\n",
      "2015   NaN   NaN   NaN   NaN   NaN\n",
      "2016   NaN   NaN   NaN   NaN   NaN\n",
      "2017   NaN   NaN   NaN   NaN   NaN\n",
      "2018   NaN   NaN   NaN   NaN   NaN\n",
      "2019   NaN   NaN   NaN   NaN   NaN\n",
      "2020   NaN   NaN   NaN   NaN   NaN\n"
     ]
    }
   ],
   "source": [
    "# create the DataFrame using the two arrays as column names\n",
    "df_income = pd.DataFrame(index=years, columns=zipcodes)\n",
    "\n",
    "# print the resulting DataFrame\n",
    "print(df_income)"
   ]
  },
  {
   "cell_type": "code",
   "execution_count": 7,
   "metadata": {},
   "outputs": [],
   "source": [
    "for year in years:\n",
    "    for zipcode in zipcodes:\n",
    "        url = 'https://data.census.gov/api/access/data/table?g=860XX00US{zipcode}&id=ACSST5Y{year}.S1901'.format(zipcode = zipcode, year = year)\n",
    "        res = fetch_api_data(url)\n",
    "\n",
    "        df = pd.DataFrame.from_dict(res)\n",
    "        income = df['response']['data'][1][161]\n",
    "\n",
    "        df_income.loc[year][zipcode] = income\n"
   ]
  },
  {
   "cell_type": "code",
   "execution_count": 9,
   "metadata": {},
   "outputs": [
    {
     "name": "stdout",
     "output_type": "stream",
     "text": [
      "      44112  44104  44103  44106  44114\n",
      "2013  22220  14603  18411  22602  22180\n",
      "2014  22548  15204  17616  24065  23013\n",
      "2015  21608  14009  17166  23222  21324\n",
      "2016  21028  14414  18531  24578  20823\n",
      "2017  22147  14646  17867  25892  22304\n",
      "2018  22586  15813  19540  26310  25757\n",
      "2019  22412  16999  19730  29225  36182\n",
      "2020  26236  16650  21468  30669  43159\n"
     ]
    }
   ],
   "source": [
    "print(df_income) # takes ~15s to create\n",
    "\n",
    "df_income.to_csv('../data/processed/cle/income.csv', index=True)\n"
   ]
  },
  {
   "attachments": {},
   "cell_type": "markdown",
   "metadata": {},
   "source": [
    "## Population and Median Age"
   ]
  },
  {
   "cell_type": "code",
   "execution_count": 12,
   "metadata": {},
   "outputs": [],
   "source": [
    "# create the DataFrame using the two arrays as column names\n",
    "df_pop = pd.DataFrame(index=years, columns=zipcodes)\n",
    "df_age = pd.DataFrame(index=years, columns=zipcodes)"
   ]
  },
  {
   "cell_type": "code",
   "execution_count": 13,
   "metadata": {},
   "outputs": [],
   "source": [
    "for year in years:\n",
    "    for zipcode in zipcodes:\n",
    "        url = 'https://data.census.gov/api/access/data/table?g=860XX00US{zipcode}&id=ACSST5Y{year}.S0101'.format(zipcode = zipcode, year = year)\n",
    "        res = fetch_api_data(url)\n",
    "\n",
    "        df = pd.DataFrame.from_dict(res)\n",
    "\n",
    "        if year in ['2013', '2014', '2015', '2016']:\n",
    "            index = 270\n",
    "        else: \n",
    "            index = 277\n",
    "\n",
    "        pop = df['response']['data'][1][index]\n",
    "\n",
    "        df_pop.loc[year][zipcode] = pop\n"
   ]
  },
  {
   "cell_type": "code",
   "execution_count": 14,
   "metadata": {},
   "outputs": [],
   "source": [
    "# 37.2s\n",
    "\n",
    "df_pop.to_csv('../data/processed/cle/pop.csv', index=True)"
   ]
  },
  {
   "attachments": {},
   "cell_type": "markdown",
   "metadata": {},
   "source": [
    "## Rough work below"
   ]
  },
  {
   "cell_type": "code",
   "execution_count": 3,
   "metadata": {},
   "outputs": [],
   "source": [
    "zipcode = '44112'\n",
    "year = '2011'\n",
    "\n",
    "cleveland_income = 'https://data.census.gov/api/access/data/table?g=860XX00US{zipcode}&id=ACSST5Y{year}.S1901'.format(zipcode = zipcode, year = year)\n"
   ]
  },
  {
   "cell_type": "code",
   "execution_count": 11,
   "metadata": {},
   "outputs": [
    {
     "data": {
      "text/plain": [
       "'24312'"
      ]
     },
     "execution_count": 11,
     "metadata": {},
     "output_type": "execute_result"
    }
   ],
   "source": [
    "res = fetch_api_data(cleveland_income)\n",
    "\n",
    "df = pd.DataFrame.from_dict(res)\n",
    "\n",
    "df['response']['data'][1][161]"
   ]
  },
  {
   "cell_type": "code",
   "execution_count": null,
   "metadata": {},
   "outputs": [],
   "source": []
  }
 ],
 "metadata": {
  "kernelspec": {
   "display_name": ".venv",
   "language": "python",
   "name": "python3"
  },
  "language_info": {
   "codemirror_mode": {
    "name": "ipython",
    "version": 3
   },
   "file_extension": ".py",
   "mimetype": "text/x-python",
   "name": "python",
   "nbconvert_exporter": "python",
   "pygments_lexer": "ipython3",
   "version": "3.11.3"
  },
  "orig_nbformat": 4
 },
 "nbformat": 4,
 "nbformat_minor": 2
}
