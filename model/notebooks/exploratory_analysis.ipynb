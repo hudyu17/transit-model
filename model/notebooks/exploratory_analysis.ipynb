{
 "cells": [
  {
   "cell_type": "code",
   "execution_count": 3,
   "metadata": {},
   "outputs": [],
   "source": [
    "import pandas as pd\n",
    "import matplotlib.pyplot as plt"
   ]
  },
  {
   "cell_type": "code",
   "execution_count": 6,
   "metadata": {},
   "outputs": [],
   "source": [
    "# Load the raw data\n",
    "df = pd.read_json('../data/raw/data.json')"
   ]
  },
  {
   "cell_type": "code",
   "execution_count": 7,
   "metadata": {},
   "outputs": [
    {
     "data": {
      "text/html": [
       "<div>\n",
       "<style scoped>\n",
       "    .dataframe tbody tr th:only-of-type {\n",
       "        vertical-align: middle;\n",
       "    }\n",
       "\n",
       "    .dataframe tbody tr th {\n",
       "        vertical-align: top;\n",
       "    }\n",
       "\n",
       "    .dataframe thead th {\n",
       "        text-align: right;\n",
       "    }\n",
       "</style>\n",
       "<table border=\"1\" class=\"dataframe\">\n",
       "  <thead>\n",
       "    <tr style=\"text-align: right;\">\n",
       "      <th></th>\n",
       "      <th>response</th>\n",
       "    </tr>\n",
       "  </thead>\n",
       "  <tbody>\n",
       "    <tr>\n",
       "      <th>data</th>\n",
       "      <td>[[S1901_C01_010MA, S1901_C01_009E, S1901_C02_0...</td>\n",
       "    </tr>\n",
       "    <tr>\n",
       "      <th>objectId</th>\n",
       "      <td>ACSST5Y2021.S1901</td>\n",
       "    </tr>\n",
       "    <tr>\n",
       "      <th>tableName</th>\n",
       "      <td>S1901</td>\n",
       "    </tr>\n",
       "  </tbody>\n",
       "</table>\n",
       "</div>"
      ],
      "text/plain": [
       "                                                    response\n",
       "data       [[S1901_C01_010MA, S1901_C01_009E, S1901_C02_0...\n",
       "objectId                                   ACSST5Y2021.S1901\n",
       "tableName                                              S1901"
      ]
     },
     "execution_count": 7,
     "metadata": {},
     "output_type": "execute_result"
    }
   ],
   "source": [
    "# Explore the data\n",
    "df.head()"
   ]
  },
  {
   "cell_type": "code",
   "execution_count": 17,
   "metadata": {},
   "outputs": [
    {
     "data": {
      "text/plain": [
       "5"
      ]
     },
     "execution_count": 17,
     "metadata": {},
     "output_type": "execute_result"
    }
   ],
   "source": [
    "# df['response']['data'][1]\n",
    "len(df['response']['data'])"
   ]
  },
  {
   "attachments": {},
   "cell_type": "markdown",
   "metadata": {},
   "source": [
    "There are 5 arrays in the response, with the first one being non data. The remaining 4 should correspond to the following zipcodes:\n",
    "1. `77055`\n",
    "2. `77027`\n",
    "3. `77024`\n",
    "4. `77056`\n",
    "\n",
    "Now I'll try and find the specific index that gives me the income data."
   ]
  },
  {
   "cell_type": "code",
   "execution_count": 18,
   "metadata": {},
   "outputs": [],
   "source": [
    "zip1, zip2, zip3, zip4 = df['response']['data'][1], df['response']['data'][2], df['response']['data'][3], df['response']['data'][4]"
   ]
  },
  {
   "cell_type": "code",
   "execution_count": 34,
   "metadata": {},
   "outputs": [
    {
     "name": "stdout",
     "output_type": "stream",
     "text": [
      "161\n"
     ]
    }
   ],
   "source": [
    "# 77027\n",
    "\n",
    "# median income = 96,834\n",
    "\n",
    "for i in range(len(zip2)):\n",
    "    if zip2[i] == '96834':\n",
    "        print(i)\n",
    "\n",
    "# i = 161"
   ]
  },
  {
   "cell_type": "code",
   "execution_count": 37,
   "metadata": {},
   "outputs": [
    {
     "name": "stdout",
     "output_type": "stream",
     "text": [
      "161\n"
     ]
    }
   ],
   "source": [
    "# 77056\n",
    "\n",
    "# median income = 101,563\n",
    "\n",
    "for i in range(len(zip4)):\n",
    "    if zip4[i] == '101563':\n",
    "        print(i)\n",
    "\n",
    "# i = 161"
   ]
  },
  {
   "cell_type": "code",
   "execution_count": 39,
   "metadata": {},
   "outputs": [
    {
     "name": "stdout",
     "output_type": "stream",
     "text": [
      "161\n"
     ]
    }
   ],
   "source": [
    "# 77024\n",
    "\n",
    "# median income = 122,979\n",
    "\n",
    "for i in range(len(zip1)):\n",
    "    if zip1[i] == '122979':\n",
    "        print(i)\n",
    "\n",
    "# i = 161"
   ]
  },
  {
   "cell_type": "code",
   "execution_count": 40,
   "metadata": {},
   "outputs": [
    {
     "name": "stdout",
     "output_type": "stream",
     "text": [
      "161\n"
     ]
    }
   ],
   "source": [
    "# 77055\n",
    "\n",
    "# median income = 64,277\n",
    "\n",
    "for i in range(len(zip3)):\n",
    "    if zip3[i] == '64277':\n",
    "        print(i)\n",
    "\n",
    "# i = 161"
   ]
  },
  {
   "attachments": {},
   "cell_type": "markdown",
   "metadata": {},
   "source": [
    "Looks like `161` is the index for **Median income (dollars)**"
   ]
  },
  {
   "cell_type": "code",
   "execution_count": 41,
   "metadata": {},
   "outputs": [],
   "source": [
    "# trying with cleveland and 2019\n",
    "df_cleveland = pd.read_json('../data/raw/cleveland-income-2019.json')\n",
    "\n",
    "zip_cleveland = df_cleveland['response']['data'][1]"
   ]
  },
  {
   "cell_type": "code",
   "execution_count": 42,
   "metadata": {},
   "outputs": [
    {
     "data": {
      "text/plain": [
       "'16999'"
      ]
     },
     "execution_count": 42,
     "metadata": {},
     "output_type": "execute_result"
    }
   ],
   "source": [
    "zip_cleveland[161] #16,999"
   ]
  },
  {
   "cell_type": "code",
   "execution_count": 88,
   "metadata": {},
   "outputs": [
    {
     "data": {
      "text/plain": [
       "'14414'"
      ]
     },
     "execution_count": 88,
     "metadata": {},
     "output_type": "execute_result"
    }
   ],
   "source": [
    "# trying with 2016\n",
    "df_cle_inc_16 = pd.read_json('../data/raw/cleveland-income-2016.json')\n",
    "\n",
    "zip_cle_inc_16 = df_cle_inc_16['response']['data'][1]\n",
    "zip_cle_inc_16[161] # 14414, correct"
   ]
  },
  {
   "cell_type": "code",
   "execution_count": 89,
   "metadata": {},
   "outputs": [
    {
     "data": {
      "text/plain": [
       "'14227'"
      ]
     },
     "execution_count": 89,
     "metadata": {},
     "output_type": "execute_result"
    }
   ],
   "source": [
    "# trying with 2011\n",
    "df_cle_inc_11 = pd.read_json('../data/raw/cleveland-income-2011.json')\n",
    "\n",
    "zip_cle_inc_11 = df_cle_inc_11['response']['data'][1]\n",
    "zip_cle_inc_11[161] # 14227, correct"
   ]
  },
  {
   "cell_type": "code",
   "execution_count": 57,
   "metadata": {},
   "outputs": [],
   "source": [
    "# trying with cleveland and 2019\n",
    "df_cle_pop = pd.read_json('../data/raw/cleveland-pop-2017.json')\n",
    "\n",
    "zip_cle_pop = df_cle_pop['response']['data'][1]"
   ]
  },
  {
   "cell_type": "code",
   "execution_count": 58,
   "metadata": {},
   "outputs": [
    {
     "name": "stdout",
     "output_type": "stream",
     "text": [
      "95\n",
      "243\n",
      "334\n",
      "350\n",
      "527\n",
      "613\n",
      "676\n",
      "691\n"
     ]
    }
   ],
   "source": [
    "for i in range(len(zip_cle_pop)):\n",
    "    if zip_cle_pop[i] == '20541':\n",
    "        print(i)"
   ]
  },
  {
   "cell_type": "code",
   "execution_count": 65,
   "metadata": {},
   "outputs": [
    {
     "name": "stdout",
     "output_type": "stream",
     "text": [
      "126\n",
      "130\n",
      "228\n",
      "316\n",
      "361\n",
      "401\n",
      "431\n",
      "565\n"
     ]
    }
   ],
   "source": [
    "df_cle_pop2 = pd.read_json('../data/raw/cleveland-pop-2013.json')\n",
    "\n",
    "zip_cle_pop2 = df_cle_pop2['response']['data'][1]\n",
    "\n",
    "for i in range(len(zip_cle_pop2)):\n",
    "    if zip_cle_pop2[i] == '22593':\n",
    "        print(i)"
   ]
  },
  {
   "cell_type": "code",
   "execution_count": 68,
   "metadata": {},
   "outputs": [],
   "source": [
    "df_cle_pop3 = pd.read_json('../data/raw/cleveland-pop-2015.json')\n",
    "\n"
   ]
  },
  {
   "cell_type": "code",
   "execution_count": 74,
   "metadata": {},
   "outputs": [
    {
     "name": "stdout",
     "output_type": "stream",
     "text": [
      "138\n",
      "142\n",
      "240\n",
      "328\n",
      "373\n",
      "413\n",
      "443\n",
      "582\n"
     ]
    }
   ],
   "source": [
    "zip_cle_pop3 = df_cle_pop3['response']['data'][1]\n",
    "\n",
    "for i in range(len(zip_cle_pop3)):\n",
    "    if zip_cle_pop3[i] == '22465':\n",
    "        print(i)"
   ]
  },
  {
   "cell_type": "code",
   "execution_count": 75,
   "metadata": {},
   "outputs": [
    {
     "name": "stdout",
     "output_type": "stream",
     "text": [
      "277\n"
     ]
    }
   ],
   "source": [
    "df_cle_pop_new_2021 = pd.read_json('../data/raw/cleveland-pop-new-2021.json')\n",
    "zip_cle_pop_new_2021 = df_cle_pop_new_2021['response']['data'][1]\n",
    "\n",
    "for i in range(len(zip_cle_pop_new_2021)):\n",
    "    if zip_cle_pop_new_2021[i] == '18945':\n",
    "        print(i)"
   ]
  },
  {
   "cell_type": "code",
   "execution_count": 78,
   "metadata": {},
   "outputs": [
    {
     "name": "stdout",
     "output_type": "stream",
     "text": [
      "270\n"
     ]
    }
   ],
   "source": [
    "df_hou_pop_13 = pd.read_json('../data/raw/houston-pop-2013.json')\n",
    "zip_hou_pop_13 = df_hou_pop_13['response']['data'][1]\n",
    "\n",
    "for i in range(len(zip_hou_pop_13)):\n",
    "    if zip_hou_pop_13[i] == '35367':\n",
    "        print(i)\n",
    "\n",
    "# 270"
   ]
  },
  {
   "cell_type": "code",
   "execution_count": 80,
   "metadata": {},
   "outputs": [
    {
     "name": "stdout",
     "output_type": "stream",
     "text": [
      "270\n"
     ]
    }
   ],
   "source": [
    "df_hou_pop_15 = pd.read_json('../data/raw/houston-pop-2015.json')\n",
    "zip_hou_pop_15 = df_hou_pop_15['response']['data'][1]\n",
    "\n",
    "for i in range(len(zip_hou_pop_15)):\n",
    "    if zip_hou_pop_15[i] == '37042':\n",
    "        print(i)\n",
    "\n",
    "# 270"
   ]
  },
  {
   "cell_type": "code",
   "execution_count": 81,
   "metadata": {},
   "outputs": [
    {
     "name": "stdout",
     "output_type": "stream",
     "text": [
      "277\n"
     ]
    }
   ],
   "source": [
    "df_hou_pop_19 = pd.read_json('../data/raw/houston-pop-2019.json')\n",
    "zip_hou_pop_19 = df_hou_pop_19['response']['data'][1]\n",
    "\n",
    "for i in range(len(zip_hou_pop_19)):\n",
    "    if zip_hou_pop_19[i] == '38190':\n",
    "        print(i)\n",
    "\n",
    "# 277\n",
    "# they made a change sometime between 2015 and 19"
   ]
  },
  {
   "cell_type": "code",
   "execution_count": 83,
   "metadata": {},
   "outputs": [
    {
     "name": "stdout",
     "output_type": "stream",
     "text": [
      "277\n"
     ]
    }
   ],
   "source": [
    "df_hou_pop_18 = pd.read_json('../data/raw/houston-pop-2018.json')\n",
    "zip_hou_pop_18 = df_hou_pop_18['response']['data'][1]\n",
    "\n",
    "for i in range(len(zip_hou_pop_18)):\n",
    "    if zip_hou_pop_18[i] == '38379':\n",
    "        print(i)\n",
    "\n",
    "# 277\n",
    "# they made a change sometime between 2015 and 18"
   ]
  },
  {
   "cell_type": "code",
   "execution_count": 84,
   "metadata": {},
   "outputs": [
    {
     "name": "stdout",
     "output_type": "stream",
     "text": [
      "277\n"
     ]
    }
   ],
   "source": [
    "df_hou_pop_17 = pd.read_json('../data/raw/houston-pop-2017.json')\n",
    "zip_hou_pop_17 = df_hou_pop_17['response']['data'][1]\n",
    "\n",
    "for i in range(len(zip_hou_pop_17)):\n",
    "    if zip_hou_pop_17[i] == '38110':\n",
    "        print(i)\n",
    "\n",
    "# 277\n",
    "# they made a change sometime between 2015 and 17"
   ]
  },
  {
   "cell_type": "code",
   "execution_count": 86,
   "metadata": {},
   "outputs": [
    {
     "name": "stdout",
     "output_type": "stream",
     "text": [
      "270\n"
     ]
    }
   ],
   "source": [
    "df_hou_pop_16 = pd.read_json('../data/raw/houston-pop-2016.json')\n",
    "zip_hou_pop_16 = df_hou_pop_16['response']['data'][1]\n",
    "\n",
    "for i in range(len(zip_hou_pop_16)):\n",
    "    if zip_hou_pop_16[i] == '37867':\n",
    "        print(i)\n",
    "\n",
    "# 270"
   ]
  },
  {
   "attachments": {},
   "cell_type": "markdown",
   "metadata": {},
   "source": [
    "Up until and including 2016 = `270`, 2017 and onward = `277`"
   ]
  },
  {
   "cell_type": "code",
   "execution_count": null,
   "metadata": {},
   "outputs": [],
   "source": []
  }
 ],
 "metadata": {
  "kernelspec": {
   "display_name": ".venv",
   "language": "python",
   "name": "python3"
  },
  "language_info": {
   "codemirror_mode": {
    "name": "ipython",
    "version": 3
   },
   "file_extension": ".py",
   "mimetype": "text/x-python",
   "name": "python",
   "nbconvert_exporter": "python",
   "pygments_lexer": "ipython3",
   "version": "3.11.3"
  },
  "orig_nbformat": 4
 },
 "nbformat": 4,
 "nbformat_minor": 2
}
