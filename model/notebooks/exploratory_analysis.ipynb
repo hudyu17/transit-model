{
 "cells": [
  {
   "attachments": {},
   "cell_type": "markdown",
   "metadata": {},
   "source": [
    "# Exploratory notebook\n",
    "\n",
    "Very messy - first cut at examining the data."
   ]
  },
  {
   "cell_type": "code",
   "execution_count": 2,
   "metadata": {},
   "outputs": [],
   "source": [
    "import pandas as pd\n",
    "import matplotlib.pyplot as plt"
   ]
  },
  {
   "cell_type": "code",
   "execution_count": 6,
   "metadata": {},
   "outputs": [],
   "source": [
    "# Load the raw data\n",
    "df = pd.read_json('../data/raw/data.json')"
   ]
  },
  {
   "cell_type": "code",
   "execution_count": 7,
   "metadata": {},
   "outputs": [
    {
     "data": {
      "text/html": [
       "<div>\n",
       "<style scoped>\n",
       "    .dataframe tbody tr th:only-of-type {\n",
       "        vertical-align: middle;\n",
       "    }\n",
       "\n",
       "    .dataframe tbody tr th {\n",
       "        vertical-align: top;\n",
       "    }\n",
       "\n",
       "    .dataframe thead th {\n",
       "        text-align: right;\n",
       "    }\n",
       "</style>\n",
       "<table border=\"1\" class=\"dataframe\">\n",
       "  <thead>\n",
       "    <tr style=\"text-align: right;\">\n",
       "      <th></th>\n",
       "      <th>response</th>\n",
       "    </tr>\n",
       "  </thead>\n",
       "  <tbody>\n",
       "    <tr>\n",
       "      <th>data</th>\n",
       "      <td>[[S1901_C01_010MA, S1901_C01_009E, S1901_C02_0...</td>\n",
       "    </tr>\n",
       "    <tr>\n",
       "      <th>objectId</th>\n",
       "      <td>ACSST5Y2021.S1901</td>\n",
       "    </tr>\n",
       "    <tr>\n",
       "      <th>tableName</th>\n",
       "      <td>S1901</td>\n",
       "    </tr>\n",
       "  </tbody>\n",
       "</table>\n",
       "</div>"
      ],
      "text/plain": [
       "                                                    response\n",
       "data       [[S1901_C01_010MA, S1901_C01_009E, S1901_C02_0...\n",
       "objectId                                   ACSST5Y2021.S1901\n",
       "tableName                                              S1901"
      ]
     },
     "execution_count": 7,
     "metadata": {},
     "output_type": "execute_result"
    }
   ],
   "source": [
    "# Explore the data\n",
    "df.head()"
   ]
  },
  {
   "cell_type": "code",
   "execution_count": 17,
   "metadata": {},
   "outputs": [
    {
     "data": {
      "text/plain": [
       "5"
      ]
     },
     "execution_count": 17,
     "metadata": {},
     "output_type": "execute_result"
    }
   ],
   "source": [
    "# df['response']['data'][1]\n",
    "len(df['response']['data'])"
   ]
  },
  {
   "attachments": {},
   "cell_type": "markdown",
   "metadata": {},
   "source": [
    "There are 5 arrays in the response, with the first one being non data. The remaining 4 should correspond to the following zipcodes:\n",
    "1. `77055`\n",
    "2. `77027`\n",
    "3. `77024`\n",
    "4. `77056`\n",
    "\n",
    "Now I'll try and find the specific index that gives me the income data."
   ]
  },
  {
   "cell_type": "code",
   "execution_count": 18,
   "metadata": {},
   "outputs": [],
   "source": [
    "zip1, zip2, zip3, zip4 = df['response']['data'][1], df['response']['data'][2], df['response']['data'][3], df['response']['data'][4]"
   ]
  },
  {
   "cell_type": "code",
   "execution_count": 34,
   "metadata": {},
   "outputs": [
    {
     "name": "stdout",
     "output_type": "stream",
     "text": [
      "161\n"
     ]
    }
   ],
   "source": [
    "# 77027\n",
    "\n",
    "# median income = 96,834\n",
    "\n",
    "for i in range(len(zip2)):\n",
    "    if zip2[i] == '96834':\n",
    "        print(i)\n",
    "\n",
    "# i = 161"
   ]
  },
  {
   "cell_type": "code",
   "execution_count": 37,
   "metadata": {},
   "outputs": [
    {
     "name": "stdout",
     "output_type": "stream",
     "text": [
      "161\n"
     ]
    }
   ],
   "source": [
    "# 77056\n",
    "\n",
    "# median income = 101,563\n",
    "\n",
    "for i in range(len(zip4)):\n",
    "    if zip4[i] == '101563':\n",
    "        print(i)\n",
    "\n",
    "# i = 161"
   ]
  },
  {
   "cell_type": "code",
   "execution_count": 39,
   "metadata": {},
   "outputs": [
    {
     "name": "stdout",
     "output_type": "stream",
     "text": [
      "161\n"
     ]
    }
   ],
   "source": [
    "# 77024\n",
    "\n",
    "# median income = 122,979\n",
    "\n",
    "for i in range(len(zip1)):\n",
    "    if zip1[i] == '122979':\n",
    "        print(i)\n",
    "\n",
    "# i = 161"
   ]
  },
  {
   "cell_type": "code",
   "execution_count": 40,
   "metadata": {},
   "outputs": [
    {
     "name": "stdout",
     "output_type": "stream",
     "text": [
      "161\n"
     ]
    }
   ],
   "source": [
    "# 77055\n",
    "\n",
    "# median income = 64,277\n",
    "\n",
    "for i in range(len(zip3)):\n",
    "    if zip3[i] == '64277':\n",
    "        print(i)\n",
    "\n",
    "# i = 161"
   ]
  },
  {
   "attachments": {},
   "cell_type": "markdown",
   "metadata": {},
   "source": [
    "Looks like `161` is the index for **Median income (dollars)**"
   ]
  },
  {
   "cell_type": "code",
   "execution_count": 41,
   "metadata": {},
   "outputs": [],
   "source": [
    "# trying with cleveland and 2019\n",
    "df_cleveland = pd.read_json('../data/raw/cleveland-income-2019.json')\n",
    "\n",
    "zip_cleveland = df_cleveland['response']['data'][1]"
   ]
  },
  {
   "cell_type": "code",
   "execution_count": 42,
   "metadata": {},
   "outputs": [
    {
     "data": {
      "text/plain": [
       "'16999'"
      ]
     },
     "execution_count": 42,
     "metadata": {},
     "output_type": "execute_result"
    }
   ],
   "source": [
    "zip_cleveland[161] #16,999"
   ]
  },
  {
   "cell_type": "code",
   "execution_count": 88,
   "metadata": {},
   "outputs": [
    {
     "data": {
      "text/plain": [
       "'14414'"
      ]
     },
     "execution_count": 88,
     "metadata": {},
     "output_type": "execute_result"
    }
   ],
   "source": [
    "# trying with 2016\n",
    "df_cle_inc_16 = pd.read_json('../data/raw/cleveland-income-2016.json')\n",
    "\n",
    "zip_cle_inc_16 = df_cle_inc_16['response']['data'][1]\n",
    "zip_cle_inc_16[161] # 14414, correct"
   ]
  },
  {
   "cell_type": "code",
   "execution_count": 89,
   "metadata": {},
   "outputs": [
    {
     "data": {
      "text/plain": [
       "'14227'"
      ]
     },
     "execution_count": 89,
     "metadata": {},
     "output_type": "execute_result"
    }
   ],
   "source": [
    "# trying with 2011\n",
    "df_cle_inc_11 = pd.read_json('../data/raw/cleveland-income-2011.json')\n",
    "\n",
    "zip_cle_inc_11 = df_cle_inc_11['response']['data'][1]\n",
    "zip_cle_inc_11[161] # 14227, correct"
   ]
  },
  {
   "cell_type": "code",
   "execution_count": 57,
   "metadata": {},
   "outputs": [],
   "source": [
    "# trying with cleveland and 2019\n",
    "df_cle_pop = pd.read_json('../data/raw/cleveland-pop-2017.json')\n",
    "\n",
    "zip_cle_pop = df_cle_pop['response']['data'][1]"
   ]
  },
  {
   "cell_type": "code",
   "execution_count": 58,
   "metadata": {},
   "outputs": [
    {
     "name": "stdout",
     "output_type": "stream",
     "text": [
      "95\n",
      "243\n",
      "334\n",
      "350\n",
      "527\n",
      "613\n",
      "676\n",
      "691\n"
     ]
    }
   ],
   "source": [
    "for i in range(len(zip_cle_pop)):\n",
    "    if zip_cle_pop[i] == '20541':\n",
    "        print(i)"
   ]
  },
  {
   "cell_type": "code",
   "execution_count": 65,
   "metadata": {},
   "outputs": [
    {
     "name": "stdout",
     "output_type": "stream",
     "text": [
      "126\n",
      "130\n",
      "228\n",
      "316\n",
      "361\n",
      "401\n",
      "431\n",
      "565\n"
     ]
    }
   ],
   "source": [
    "df_cle_pop2 = pd.read_json('../data/raw/cleveland-pop-2013.json')\n",
    "\n",
    "zip_cle_pop2 = df_cle_pop2['response']['data'][1]\n",
    "\n",
    "for i in range(len(zip_cle_pop2)):\n",
    "    if zip_cle_pop2[i] == '22593':\n",
    "        print(i)"
   ]
  },
  {
   "cell_type": "code",
   "execution_count": 68,
   "metadata": {},
   "outputs": [],
   "source": [
    "df_cle_pop3 = pd.read_json('../data/raw/cleveland-pop-2015.json')\n",
    "\n"
   ]
  },
  {
   "cell_type": "code",
   "execution_count": 74,
   "metadata": {},
   "outputs": [
    {
     "name": "stdout",
     "output_type": "stream",
     "text": [
      "138\n",
      "142\n",
      "240\n",
      "328\n",
      "373\n",
      "413\n",
      "443\n",
      "582\n"
     ]
    }
   ],
   "source": [
    "zip_cle_pop3 = df_cle_pop3['response']['data'][1]\n",
    "\n",
    "for i in range(len(zip_cle_pop3)):\n",
    "    if zip_cle_pop3[i] == '22465':\n",
    "        print(i)"
   ]
  },
  {
   "cell_type": "code",
   "execution_count": 10,
   "metadata": {},
   "outputs": [
    {
     "name": "stdout",
     "output_type": "stream",
     "text": [
      "277\n"
     ]
    }
   ],
   "source": [
    "df_cle_pop_new_2021 = pd.read_json('../data/raw/cleveland-pop-new-2021.json')\n",
    "zip_cle_pop_new_2021 = df_cle_pop_new_2021['response']['data'][1]\n",
    "\n",
    "for i in range(len(zip_cle_pop_new_2021)):\n",
    "    if zip_cle_pop_new_2021[i] == '18945':\n",
    "        print(i)"
   ]
  },
  {
   "cell_type": "code",
   "execution_count": 78,
   "metadata": {},
   "outputs": [
    {
     "name": "stdout",
     "output_type": "stream",
     "text": [
      "270\n"
     ]
    }
   ],
   "source": [
    "df_hou_pop_13 = pd.read_json('../data/raw/houston-pop-2013.json')\n",
    "zip_hou_pop_13 = df_hou_pop_13['response']['data'][1]\n",
    "\n",
    "for i in range(len(zip_hou_pop_13)):\n",
    "    if zip_hou_pop_13[i] == '35367':\n",
    "        print(i)\n",
    "\n",
    "# 270"
   ]
  },
  {
   "cell_type": "code",
   "execution_count": 80,
   "metadata": {},
   "outputs": [
    {
     "name": "stdout",
     "output_type": "stream",
     "text": [
      "270\n"
     ]
    }
   ],
   "source": [
    "df_hou_pop_15 = pd.read_json('../data/raw/houston-pop-2015.json')\n",
    "zip_hou_pop_15 = df_hou_pop_15['response']['data'][1]\n",
    "\n",
    "for i in range(len(zip_hou_pop_15)):\n",
    "    if zip_hou_pop_15[i] == '37042':\n",
    "        print(i)\n",
    "\n",
    "# 270"
   ]
  },
  {
   "cell_type": "code",
   "execution_count": 81,
   "metadata": {},
   "outputs": [
    {
     "name": "stdout",
     "output_type": "stream",
     "text": [
      "277\n"
     ]
    }
   ],
   "source": [
    "df_hou_pop_19 = pd.read_json('../data/raw/houston-pop-2019.json')\n",
    "zip_hou_pop_19 = df_hou_pop_19['response']['data'][1]\n",
    "\n",
    "for i in range(len(zip_hou_pop_19)):\n",
    "    if zip_hou_pop_19[i] == '38190':\n",
    "        print(i)\n",
    "\n",
    "# 277\n",
    "# they made a change sometime between 2015 and 19"
   ]
  },
  {
   "cell_type": "code",
   "execution_count": 83,
   "metadata": {},
   "outputs": [
    {
     "name": "stdout",
     "output_type": "stream",
     "text": [
      "277\n"
     ]
    }
   ],
   "source": [
    "df_hou_pop_18 = pd.read_json('../data/raw/houston-pop-2018.json')\n",
    "zip_hou_pop_18 = df_hou_pop_18['response']['data'][1]\n",
    "\n",
    "for i in range(len(zip_hou_pop_18)):\n",
    "    if zip_hou_pop_18[i] == '38379':\n",
    "        print(i)\n",
    "\n",
    "# 277\n",
    "# they made a change sometime between 2015 and 18"
   ]
  },
  {
   "cell_type": "code",
   "execution_count": 8,
   "metadata": {},
   "outputs": [
    {
     "name": "stdout",
     "output_type": "stream",
     "text": [
      "277\n"
     ]
    }
   ],
   "source": [
    "df_hou_pop_17 = pd.read_json('../data/raw/houston-pop-2017.json')\n",
    "zip_hou_pop_17 = df_hou_pop_17['response']['data'][1]\n",
    "\n",
    "for i in range(len(zip_hou_pop_17)):\n",
    "    if zip_hou_pop_17[i] == '38110':\n",
    "        print(i)\n",
    "\n",
    "# 277"
   ]
  },
  {
   "cell_type": "code",
   "execution_count": 5,
   "metadata": {},
   "outputs": [
    {
     "name": "stdout",
     "output_type": "stream",
     "text": [
      "270\n"
     ]
    }
   ],
   "source": [
    "# zipcode 77024\n",
    "\n",
    "df_hou_pop_16 = pd.read_json('../data/raw/houston-pop-2016.json')\n",
    "zip_hou_pop_16 = df_hou_pop_16['response']['data'][1]\n",
    "\n",
    "# total population\n",
    "for i in range(len(zip_hou_pop_16)):\n",
    "    if zip_hou_pop_16[i] == '37867':\n",
    "        print(i)\n",
    "\n",
    "# 270"
   ]
  },
  {
   "attachments": {},
   "cell_type": "markdown",
   "metadata": {},
   "source": [
    "For **population**: up until and including 2016 = `270`, 2017 and onward = `277`"
   ]
  },
  {
   "cell_type": "code",
   "execution_count": 6,
   "metadata": {},
   "outputs": [
    {
     "name": "stdout",
     "output_type": "stream",
     "text": [
      "140\n"
     ]
    }
   ],
   "source": [
    "# median age\n",
    "for i in range(len(zip_hou_pop_16)):\n",
    "    if zip_hou_pop_16[i] == '44.1':\n",
    "        print(i)\n",
    "\n",
    "# 140"
   ]
  },
  {
   "cell_type": "code",
   "execution_count": 9,
   "metadata": {},
   "outputs": [
    {
     "name": "stdout",
     "output_type": "stream",
     "text": [
      "111\n"
     ]
    }
   ],
   "source": [
    "# median age\n",
    "for i in range(len(zip_hou_pop_17)):\n",
    "    if zip_hou_pop_17[i] == '44.3':\n",
    "        print(i)\n",
    "\n",
    "# 111\n",
    "# the same change occurs at the 2017 mark"
   ]
  },
  {
   "cell_type": "code",
   "execution_count": 12,
   "metadata": {},
   "outputs": [
    {
     "name": "stdout",
     "output_type": "stream",
     "text": [
      "111\n"
     ]
    }
   ],
   "source": [
    "# 44112\n",
    "\n",
    "for i in range(len(zip_cle_pop_new_2021)):\n",
    "    if zip_cle_pop_new_2021[i] == '40.9':\n",
    "        print(i)\n",
    "\n",
    "# 111, since it's 2017 onward"
   ]
  },
  {
   "attachments": {},
   "cell_type": "markdown",
   "metadata": {},
   "source": [
    "Testing car ownership"
   ]
  },
  {
   "cell_type": "code",
   "execution_count": 3,
   "metadata": {},
   "outputs": [
    {
     "name": "stdout",
     "output_type": "stream",
     "text": [
      "114\n"
     ]
    }
   ],
   "source": [
    "df_cle_car_2021 = pd.read_json('../data/raw/cle-car-2021.json')\n",
    "zip_cle_car_21 = df_cle_car_2021['response']['data'][1]\n",
    "\n",
    "for i in range(len(zip_cle_car_21)):\n",
    "    if zip_cle_car_21[i] == '55.0':\n",
    "        print(i)\n",
    "\n",
    "# 114\n"
   ]
  },
  {
   "cell_type": "code",
   "execution_count": 4,
   "metadata": {},
   "outputs": [
    {
     "name": "stdout",
     "output_type": "stream",
     "text": [
      "114\n"
     ]
    }
   ],
   "source": [
    "df_cle_car_16 = pd.read_json('../data/raw/cle-car-2016.json')\n",
    "zip_cle_car_16 = df_cle_car_16['response']['data'][1]\n",
    "\n",
    "for i in range(len(zip_cle_car_16)):\n",
    "    if zip_cle_car_16[i] == '54.1':\n",
    "        print(i)\n",
    "\n",
    "# 114\n"
   ]
  },
  {
   "cell_type": "code",
   "execution_count": 9,
   "metadata": {},
   "outputs": [
    {
     "name": "stdout",
     "output_type": "stream",
     "text": [
      "114\n"
     ]
    }
   ],
   "source": [
    "df_hou_car_12 = pd.read_json('../data/raw/hou-car-2012.json')\n",
    "zip_hou_car_12 = df_hou_car_12['response']['data'][1]\n",
    "\n",
    "for i in range(len(zip_hou_car_12)):\n",
    "    if zip_hou_car_12[i] == '8.0':\n",
    "        print(i)\n",
    "\n",
    "# 114\n"
   ]
  },
  {
   "cell_type": "code",
   "execution_count": 10,
   "metadata": {},
   "outputs": [
    {
     "name": "stdout",
     "output_type": "stream",
     "text": [
      "114\n",
      "138\n",
      "969\n"
     ]
    }
   ],
   "source": [
    "df_hou_car_16 = pd.read_json('../data/raw/hou-car-2016.json')\n",
    "zip_hou_car_16 = df_hou_car_16['response']['data'][1]\n",
    "\n",
    "for i in range(len(zip_hou_car_16)):\n",
    "    if zip_hou_car_16[i] == '19.2':\n",
    "        print(i)\n",
    "\n",
    "# 114, 138, 969\n"
   ]
  },
  {
   "attachments": {},
   "cell_type": "markdown",
   "metadata": {},
   "source": [
    "### Testing job ops now"
   ]
  },
  {
   "cell_type": "code",
   "execution_count": 3,
   "metadata": {},
   "outputs": [
    {
     "name": "stdout",
     "output_type": "stream",
     "text": [
      "15\n"
     ]
    }
   ],
   "source": [
    "df_hou_job_12 = pd.read_json('../data/raw/hou-job-12.json')\n",
    "zip_hou_job_12 = df_hou_job_12['response']['data'][1]\n",
    "\n",
    "for i in range(len(zip_hou_job_12)):\n",
    "    if zip_hou_job_12[i] == '2276':\n",
    "        print(i)\n",
    "\n",
    "# 15"
   ]
  },
  {
   "cell_type": "code",
   "execution_count": 4,
   "metadata": {},
   "outputs": [
    {
     "name": "stdout",
     "output_type": "stream",
     "text": [
      "15\n"
     ]
    }
   ],
   "source": [
    "df_cle_job_17 = pd.read_json('../data/raw/cle-job-17.json')\n",
    "zip_cle_job_17 = df_cle_job_17['response']['data'][1]\n",
    "\n",
    "for i in range(len(zip_cle_job_17)):\n",
    "    if zip_cle_job_17[i] == '509':\n",
    "        print(i)\n",
    "\n",
    "# 15"
   ]
  },
  {
   "attachments": {},
   "cell_type": "markdown",
   "metadata": {},
   "source": [
    "### Testing household splits"
   ]
  },
  {
   "cell_type": "code",
   "execution_count": 21,
   "metadata": {},
   "outputs": [
    {
     "name": "stdout",
     "output_type": "stream",
     "text": [
      "Single Female : 121\n",
      "Single Male, alone : 222\n",
      "Couple : 379\n",
      "Single Male : 439\n",
      "Married Couple : 602\n",
      "Single Female, alone : 1094\n"
     ]
    }
   ],
   "source": [
    "df_cle_house_21 = pd.read_json('../data/raw/cle-house-21.json')\n",
    "zip_cle_house_21 = df_cle_house_21['response']['data'][1]\n",
    "\n",
    "stats = {\n",
    "    '15.1': 'Married Couple',\n",
    "    '8.5': 'Couple',\n",
    "    '24.6': 'Single Male',\n",
    "    '16.4': 'Single Male, alone',\n",
    "    '51.8': 'Single Female',\n",
    "    '30.4': 'Single Female, alone',\n",
    "}\n",
    "\n",
    "for i in range(len(zip_cle_house_21)):\n",
    "    if zip_cle_house_21[i] in stats:\n",
    "        print(stats[zip_cle_house_21[i]], ':', i)"
   ]
  },
  {
   "attachments": {},
   "cell_type": "markdown",
   "metadata": {},
   "source": [
    "Trying a new dataset for households"
   ]
  },
  {
   "cell_type": "code",
   "execution_count": 27,
   "metadata": {},
   "outputs": [
    {
     "name": "stdout",
     "output_type": "stream",
     "text": [
      "Single Female, Family : 13\n",
      "Non-family : 346\n",
      "Married Couple : 863\n",
      "Single Male, Family : 877\n"
     ]
    }
   ],
   "source": [
    "curr_df = pd.read_json('../data/raw/cle-house-new-21.json')\n",
    "curr_zip = curr_df['response']['data'][1]\n",
    "\n",
    "stats = {'15.1': 'Married Couple', '51.6': 'Non-family', '10.4': 'Single Male, Family', '22.9': 'Single Female, Family',\n",
    "}\n",
    "\n",
    "for i in range(len(curr_zip)):\n",
    "    if curr_zip[i] in stats:\n",
    "        print(stats[curr_zip[i]], ':', i)"
   ]
  },
  {
   "cell_type": "code",
   "execution_count": 28,
   "metadata": {},
   "outputs": [
    {
     "name": "stdout",
     "output_type": "stream",
     "text": [
      "Single Female, Family : 13\n",
      "Single Male, Family : 265\n",
      "Single Female, Family : 341\n",
      "Non-family : 346\n",
      "Single Male, Family : 478\n",
      "Single Female, Family : 532\n",
      "Single Male, Family : 558\n",
      "Single Male, Family : 805\n",
      "Single Male, Family : 838\n",
      "Married Couple : 863\n",
      "Single Male, Family : 877\n",
      "Single Male, Family : 880\n"
     ]
    }
   ],
   "source": [
    "curr_df = pd.read_json('../data/raw/hou-house-new-21.json')\n",
    "curr_zip = curr_df['response']['data'][1]\n",
    "\n",
    "stats = {'31.8': 'Married Couple', '61.5': 'Non-family', '2.1': 'Single Male, Family', '4.7': 'Single Female, Family',\n",
    "}\n",
    "\n",
    "for i in range(len(curr_zip)):\n",
    "    if curr_zip[i] in stats:\n",
    "        print(stats[curr_zip[i]], ':', i)"
   ]
  },
  {
   "attachments": {},
   "cell_type": "markdown",
   "metadata": {},
   "source": [
    "Houston and Cleveland have the same indices for 2021 at the very least - they may differ between years but geographies seems consistent."
   ]
  },
  {
   "cell_type": "code",
   "execution_count": 23,
   "metadata": {},
   "outputs": [
    {
     "name": "stdout",
     "output_type": "stream",
     "text": [
      "Single Female, Family : 13\n",
      "Non-family : 346\n",
      "Single Male, Family : 802\n",
      "Married Couple : 863\n",
      "Single Male, Family : 877\n"
     ]
    }
   ],
   "source": [
    "curr_df = pd.read_json('../data/raw/cle-house-new-19.json')\n",
    "curr_zip = curr_df['response']['data'][1]\n",
    "\n",
    "stats = {'17.9': 'Married Couple', '50.1': 'Non-family', '6.4': 'Single Male, Family', '25.6': 'Single Female, Family',\n",
    "}\n",
    "\n",
    "for i in range(len(curr_zip)):\n",
    "    if curr_zip[i] in stats:\n",
    "        print(stats[curr_zip[i]], ':', i)"
   ]
  },
  {
   "cell_type": "code",
   "execution_count": 24,
   "metadata": {},
   "outputs": [
    {
     "name": "stdout",
     "output_type": "stream",
     "text": [
      "Non-family : 11\n",
      "Married Couple : 31\n",
      "Single Female, Family : 118\n",
      "Single Male, Family : 174\n"
     ]
    }
   ],
   "source": [
    "curr_df = pd.read_json('../data/raw/cle-house-new-15.json')\n",
    "curr_zip = curr_df['response']['data'][1]\n",
    "\n",
    "stats = {'18.5': 'Married Couple', '48.9': 'Non-family', '5.5': 'Single Male, Family', '27.0': 'Single Female, Family',}\n",
    "\n",
    "for i in range(len(curr_zip)):\n",
    "    if curr_zip[i] in stats:\n",
    "        print(stats[curr_zip[i]], ':', i)"
   ]
  },
  {
   "cell_type": "code",
   "execution_count": 25,
   "metadata": {},
   "outputs": [
    {
     "name": "stdout",
     "output_type": "stream",
     "text": [
      "Non-family : 11\n",
      "Single Male, Family : 24\n",
      "Married Couple : 31\n",
      "Single Female, Family : 118\n",
      "Single Male, Family : 174\n"
     ]
    }
   ],
   "source": [
    "curr_df = pd.read_json('../data/raw/cle-house-new-14.json')\n",
    "curr_zip = curr_df['response']['data'][1]\n",
    "\n",
    "stats = {'18.3': 'Married Couple', '48.3': 'Non-family', '5.7': 'Single Male, Family', '27.8': 'Single Female, Family',}\n",
    "\n",
    "for i in range(len(curr_zip)):\n",
    "    if curr_zip[i] in stats:\n",
    "        print(stats[curr_zip[i]], ':', i)"
   ]
  },
  {
   "cell_type": "code",
   "execution_count": 26,
   "metadata": {},
   "outputs": [
    {
     "name": "stdout",
     "output_type": "stream",
     "text": [
      "Non-family : 11\n",
      "Married Couple : 31\n",
      "Single Female, Family : 120\n",
      "Single Male, Family : 177\n"
     ]
    }
   ],
   "source": [
    "curr_df = pd.read_json('../data/raw/cle-house-new-12.json')\n",
    "curr_zip = curr_df['response']['data'][1]\n",
    "\n",
    "stats = {'19.5': 'Married Couple', '46.0': 'Non-family', '5.6': 'Single Male, Family', '28.8': 'Single Female, Family',}\n",
    "\n",
    "for i in range(len(curr_zip)):\n",
    "    if curr_zip[i] in stats:\n",
    "        print(stats[curr_zip[i]], ':', i)"
   ]
  },
  {
   "cell_type": "code",
   "execution_count": 3,
   "metadata": {},
   "outputs": [
    {
     "name": "stdout",
     "output_type": "stream",
     "text": [
      "Single Male, Family : 2\n",
      "Non-family : 11\n",
      "Married Couple : 31\n",
      "Single Female, Family : 120\n",
      "Single Male, Family : 154\n",
      "Single Male, Family : 177\n",
      "Single Female, Family : 210\n",
      "Single Female, Family : 439\n"
     ]
    }
   ],
   "source": [
    "curr_df = pd.read_json('../data/raw/hou-house-new-12.json')\n",
    "curr_zip = curr_df['response']['data'][1]\n",
    "\n",
    "stats = {'28.7': 'Married Couple', '63.8': 'Non-family', '3.3': 'Single Male, Family', '4.2': 'Single Female, Family',}\n",
    "\n",
    "for i in range(len(curr_zip)):\n",
    "    if curr_zip[i] in stats:\n",
    "        print(stats[curr_zip[i]], ':', i)"
   ]
  },
  {
   "cell_type": "code",
   "execution_count": 4,
   "metadata": {},
   "outputs": [
    {
     "name": "stdout",
     "output_type": "stream",
     "text": [
      "Non-family : 11\n",
      "Married Couple : 31\n",
      "Single Female, Family : 118\n",
      "Single Male, Family : 174\n",
      "Single Male, Family : 422\n"
     ]
    }
   ],
   "source": [
    "# checking 2016\n",
    "curr_df = pd.read_json('../data/raw/hou-house-new-16.json')\n",
    "curr_zip = curr_df['response']['data'][1]\n",
    "\n",
    "stats = {'30.5': 'Married Couple', '62.4': 'Non-family', '2.7': 'Single Male, Family', '4.5': 'Single Female, Family',}\n",
    "\n",
    "for i in range(len(curr_zip)):\n",
    "    if curr_zip[i] in stats:\n",
    "        print(stats[curr_zip[i]], ':', i)"
   ]
  },
  {
   "cell_type": "code",
   "execution_count": 5,
   "metadata": {},
   "outputs": [
    {
     "name": "stdout",
     "output_type": "stream",
     "text": [
      "Single Female, Family : 13\n",
      "Single Male, Family : 181\n",
      "Single Male, Family : 209\n",
      "Non-family : 346\n",
      "Single Male, Family : 409\n",
      "Single Female, Family : 419\n",
      "Single Female, Family : 473\n",
      "Single Male, Family : 753\n",
      "Married Couple : 863\n",
      "Single Male, Family : 877\n",
      "Single Female, Family : 879\n"
     ]
    }
   ],
   "source": [
    "# checking 2017\n",
    "curr_df = pd.read_json('../data/raw/hou-house-new-17.json')\n",
    "curr_zip = curr_df['response']['data'][1]\n",
    "\n",
    "stats = {'34.2': 'Married Couple', '60.0': 'Non-family', '1.9': 'Single Male, Family', '3.9': 'Single Female, Family',}\n",
    "\n",
    "for i in range(len(curr_zip)):\n",
    "    if curr_zip[i] in stats:\n",
    "        print(stats[curr_zip[i]], ':', i)"
   ]
  },
  {
   "cell_type": "code",
   "execution_count": 7,
   "metadata": {},
   "outputs": [
    {
     "name": "stdout",
     "output_type": "stream",
     "text": [
      "Non-family : 11\n",
      "Married Couple : 31\n",
      "Single Female, Family : 118\n",
      "Single Male, Family : 151\n",
      "Single Male, Family : 174\n",
      "Single Female, Family : 395\n",
      "Single Female, Family : 398\n",
      "Single Female, Family : 448\n"
     ]
    }
   ],
   "source": [
    "# checking 2013\n",
    "curr_df = pd.read_json('../data/raw/hou-house-new-13.json')\n",
    "curr_zip = curr_df['response']['data'][1]\n",
    "\n",
    "stats = {'28.1': 'Married Couple', '63.7': 'Non-family', '3.6': 'Single Male, Family', '4.5': 'Single Female, Family',}\n",
    "\n",
    "for i in range(len(curr_zip)):\n",
    "    if curr_zip[i] in stats:\n",
    "        print(stats[curr_zip[i]], ':', i)"
   ]
  },
  {
   "cell_type": "code",
   "execution_count": 8,
   "metadata": {},
   "outputs": [
    {
     "name": "stdout",
     "output_type": "stream",
     "text": [
      "Non-family : 11\n",
      "Married Couple : 31\n",
      "Single Female, Family : 120\n",
      "Single Male, Family : 177\n",
      "Single Female, Family : 223\n",
      "Single Male, Family : 239\n",
      "Single Female, Family : 405\n",
      "Single Female, Family : 408\n",
      "Single Male, Family : 424\n",
      "Single Female, Family : 436\n",
      "Single Female, Family : 460\n"
     ]
    }
   ],
   "source": [
    "# checking 2011\n",
    "curr_df = pd.read_json('../data/raw/hou-house-new-11.json')\n",
    "curr_zip = curr_df['response']['data'][1]\n",
    "\n",
    "stats = {'32.4': 'Married Couple', '61.7': 'Non-family', '1.6': 'Single Male, Family', '4.2': 'Single Female, Family',}\n",
    "\n",
    "for i in range(len(curr_zip)):\n",
    "    if curr_zip[i] in stats:\n",
    "        print(stats[curr_zip[i]], ':', i)"
   ]
  },
  {
   "cell_type": "code",
   "execution_count": null,
   "metadata": {},
   "outputs": [],
   "source": []
  }
 ],
 "metadata": {
  "kernelspec": {
   "display_name": ".venv",
   "language": "python",
   "name": "python3"
  },
  "language_info": {
   "codemirror_mode": {
    "name": "ipython",
    "version": 3
   },
   "file_extension": ".py",
   "mimetype": "text/x-python",
   "name": "python",
   "nbconvert_exporter": "python",
   "pygments_lexer": "ipython3",
   "version": "3.11.3"
  },
  "orig_nbformat": 4
 },
 "nbformat": 4,
 "nbformat_minor": 2
}
