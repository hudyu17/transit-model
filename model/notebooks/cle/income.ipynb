{
 "cells": [
  {
   "attachments": {},
   "cell_type": "markdown",
   "metadata": {},
   "source": [
    "# Household Income for Cleveland Healthline ZIP Codes\n",
    "\n",
    "This notebook retrieves median household income for the following ZIP Codes near the Cleveland Healthline BRT: `44112, 44104, 44103, 44106, 44114`.\n",
    "\n",
    "Data Source: `Table S1901` of the *American Community Survey*"
   ]
  },
  {
   "cell_type": "markdown",
   "metadata": {},
   "source": []
  },
  {
   "cell_type": "code",
   "execution_count": null,
   "metadata": {
    "vscode": {
     "languageId": "plaintext"
    }
   },
   "outputs": [],
   "source": []
  }
 ],
 "metadata": {
  "language_info": {
   "name": "python"
  },
  "orig_nbformat": 4
 },
 "nbformat": 4,
 "nbformat_minor": 2
}
