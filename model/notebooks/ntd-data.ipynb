{
 "cells": [
  {
   "attachments": {},
   "cell_type": "markdown",
   "metadata": {},
   "source": [
    "# Retrieving NTD Ridership Data\n",
    "\n",
    "This notebook explores how to download ridership data from the National Transit Database. Data Source from the [American Public Transportation Association.](https://www.apta.com/research-technical-resources/transit-statistics/ntd-data-tables/)"
   ]
  },
  {
   "cell_type": "code",
   "execution_count": 5,
   "metadata": {},
   "outputs": [],
   "source": [
    "# https://www.apta.com/wp-content/uploads/2020-National-Transit-Database.zip\n",
    "\n",
    "import os\n",
    "import pandas as pd\n",
    "from io import BytesIO\n",
    "from zipfile import ZipFile\n",
    "import requests"
   ]
  },
  {
   "cell_type": "code",
   "execution_count": 84,
   "metadata": {},
   "outputs": [],
   "source": [
    "# Set up some variables for the years of interest and the output directory\n",
    "years = [2013] + list(range(2015, 2021))\n",
    "output_dir = '../data/raw/ntd-ridership'"
   ]
  },
  {
   "attachments": {},
   "cell_type": "markdown",
   "metadata": {},
   "source": [
    "# Success\n",
    "\n",
    "Function below actually works for 2019\n",
    "\n",
    "Note some differences:\n",
    "- 2013: `2013-National-Transit-Database/2013-Table-19-Transit-Operating-Stats.xls`\n",
    "- ~~2014: `2014-National-Transit-Database/2014-Table-19-Transit-Operating-Stats.xls`~~ *Error with macros, download manually*\n",
    "- 2015: `2015-NTD-Tables-APTA/Metrics.xlsm`\n",
    "- 2016: `2016-National-Transit-Database/2016-NTD-Metrics_0.xlsx`\n",
    "- 2017: `2017-National-Transit-Database/Metrics_1.xlsm`\n",
    "- 2018: `2018-National-Transit-Database/Metrics_2.xlsx`\n",
    "- 2019: `2019_Annual_Database_Files/Metrics_Static.xlsx`\n",
    "- 2020: `2020_Annual_Database_Files/Metrics_Static.xlsx`"
   ]
  },
  {
   "cell_type": "code",
   "execution_count": 58,
   "metadata": {},
   "outputs": [],
   "source": [
    "file_paths = {\n",
    "    2013: '2013-Table-19-Transit-Operating-Stats.xls',\n",
    "    2014: '2014-Table-19-Transit-Operating-Stats.xls',\n",
    "    2015: 'Metrics.xlsm',\n",
    "    2016: '2016-NTD-Metrics_0.xlsx',\n",
    "    2017: 'Metrics_1.xlsm',\n",
    "    2018: 'Metrics_2.xlsx',\n",
    "    2019: '2019_Annual_Database_Files/Metrics_Static.xlsx',\n",
    "    2020: '2020_Annual_Database_Files/Metrics_Static.xlsx'\n",
    "}"
   ]
  },
  {
   "cell_type": "code",
   "execution_count": 81,
   "metadata": {},
   "outputs": [],
   "source": [
    "# ERROR: only 2019 and 2020 work\n",
    "\n",
    "def get_zip(year):\n",
    "    if year == 2017:\n",
    "        url = requests.get('https://www.apta.com/wp-content/uploads/Resources/resources/statistics/Documents/NTD_Data/2017-National-Transit-Database.zip')\n",
    "    elif year == 2015:\n",
    "        url = requests.get('https://www.apta.com/wp-content/uploads/2015-NTD-Tables-APTA.zip')\n",
    "    else:\n",
    "        url = requests.get(f'https://www.apta.com/wp-content/uploads/{year}-National-Transit-Database.zip')\n",
    "\n",
    "    zipfile = ZipFile(BytesIO(url.content))\n",
    "\n",
    "    with zipfile.open(file_paths[year]) as f:\n",
    "        if year == 2013:\n",
    "            df = pd.read_excel(f, sheet_name=\"Op_Stats_Service\", skiprows=[0])\n",
    "        # elif year == 2014:\n",
    "        #     df = pd.read_excel(f, sheet_name=\"Op_Stats_Service\", skiprows=[0, 3])\n",
    "        else:\n",
    "            df = pd.read_excel(f, sheet_name=\"Metrics\")\n",
    "\n",
    "    # Filter the DataFrame to rows where column J == 'RB'\n",
    "    df_filtered = df[df[\"Mode\"] == \"RB\"]\n",
    "\n",
    "    # Save the filtered data to a new CSV file\n",
    "    output_file = os.path.join(output_dir, f'transit_data_{year}_filtered.csv')\n",
    "    df_filtered.to_csv(output_file, index=False)"
   ]
  },
  {
   "cell_type": "code",
   "execution_count": 85,
   "metadata": {},
   "outputs": [
    {
     "name": "stdout",
     "output_type": "stream",
     "text": [
      "2013\n",
      "2015\n",
      "2016\n",
      "2017\n",
      "2018\n",
      "2019\n",
      "2020\n"
     ]
    }
   ],
   "source": [
    "for year in years:\n",
    "    print(year)\n",
    "    get_zip(year)"
   ]
  },
  {
   "cell_type": "code",
   "execution_count": 50,
   "metadata": {},
   "outputs": [],
   "source": [
    "url = requests.get(f'https://www.apta.com/wp-content/uploads/2013-National-Transit-Database.zip')\n",
    "zipfile = ZipFile(BytesIO(url.content))"
   ]
  },
  {
   "cell_type": "code",
   "execution_count": 52,
   "metadata": {},
   "outputs": [
    {
     "name": "stdout",
     "output_type": "stream",
     "text": [
      "File Name                                             Modified             Size\n",
      "2013-Appendix-A-Fleet-Size.xls                 2015-01-15 11:47:40       205312\n",
      "2013-Appendix-B-Small-System-Waivers.xls       2015-01-08 11:52:30        77312\n",
      "2013-Appendix-C-Agency-ID-Info.xls             2015-01-08 11:52:48       529408\n",
      "2013-Appendix-D-Urbanized-Area-Information.xls 2015-01-08 11:53:12       219136\n",
      "2013-Appendix-E-Complete-Waivers.xls           2015-01-08 11:53:34        34816\n",
      "2013-Table-01-Op-Funds-Applied.xls             2015-01-14 16:28:54       475648\n",
      "2013-Table-03-Federal-Sources-Operating.xls    2015-01-14 16:31:54       380416\n",
      "2013-Table-07-Transit-Cap-Funds-Applied.xls    2015-01-14 16:35:30       414720\n",
      "2013-Table-11-Cap-Applied-Expenditure.xls      2015-01-14 16:36:24       774144\n",
      "2013-Table-12-Transit-OE-by-Mode-TOS.xls       2015-01-14 16:42:02       870400\n",
      "2013-Table-13-OE-by-Mode.xls                   2015-01-14 16:48:14      1347072\n",
      "2013-Table-16-RVI-Maint-Performance.xls        2015-01-14 16:51:24       478720\n",
      "2013-Table-17-Energy-Consumption.xls           2015-01-14 16:52:16       969728\n",
      "2013-Table-18-Employee-Work-Hour-Count.xls     2015-01-14 17:09:00       978432\n",
      "2013-Table-19-Transit-Operating-Stats.xls      2015-11-10 15:03:24      1057792\n",
      "2013-Table-20-Op-Stats-Train-Data.xls          2015-01-14 17:21:34       151040\n",
      "2013-Table-21-Passenger-Stations.xls           2015-01-14 17:22:36       421888\n",
      "2013-Table-22-Maintenance-Facilities.xls       2015-01-14 18:37:48       831488\n",
      "2013-Table-23-Transit-Way-Mileage-Rail.xls     2015-01-14 18:54:12       113152\n",
      "2013-Table-24-Transit-Way-Mileage-Non-Rail.xls 2015-01-15 10:29:46       360448\n",
      "2013-Table-25-RVI-Age-Distribution.xls         2015-01-15 10:32:22       396800\n",
      "2013-Table-26-Pass-Fare-Recovery-Ratio.xls     2015-01-15 10:35:30       613888\n",
      "2013-Table-27-Service-Ratio.xls                2015-01-15 10:41:14       608256\n",
      "2013-Table-28-State-Dedicated-Earned.xls       2015-01-15 10:53:14        94208\n",
      "2013-Table-29-Local-Dedicated-Earned.xls       2015-01-15 10:54:26        85504\n",
      "2013-Table-30-Statement-of-Finances.xls        2015-01-15 10:57:52       111616\n",
      "2013-UZA-Allocation.xls                        2015-01-15 11:20:08       130048\n",
      "Database Files/2013 Agency Information.xls     2015-01-08 11:55:44       498176\n",
      "Database Files/2013 Agency Mode Service.xls    2015-01-08 11:56:04       411648\n",
      "Database Files/2013 Agency UZAs.xls            2015-01-08 11:56:28       299008\n",
      "Database Files/2013 Capital Use.xls            2015-01-08 11:56:54       630272\n",
      "Database Files/2013 Contract Relationship.xls  2015-01-08 11:57:14       417280\n",
      "Database Files/2013 Directly Generated Funds.xls 2015-01-08 11:57:32       384512\n",
      "Database Files/2013 Energy Consumption.xls     2015-01-08 11:58:08       205312\n",
      "Database Files/2013 Fare Revenue Earned By Mode.xls 2015-01-08 11:58:26       265728\n",
      "Database Files/2013 FFA10.xls                  2015-01-08 11:59:52       650240\n",
      "Database Files/2013 Fixed Guideway.xls         2015-01-08 11:58:50      1188864\n",
      "Database Files/2013 Operating Expense Reconciliation.xls 2015-01-08 11:59:24       225792\n",
      "Database Files/2013 Operating Expenses.xls     2015-01-08 11:59:08      1372160\n",
      "Database Files/2013 Revenue Vehicle Inventory.xls 2015-01-08 12:00:10      4680192\n",
      "Database Files/2013 Service.xls                2015-01-08 12:00:28      2228736\n",
      "Database Files/2013 Tax Funds.xls              2015-01-08 12:00:46      1847296\n",
      "Database Files/2013 Transit Agency Employees.xls 2015-01-08 12:01:06       273920\n",
      "Database Files/2013 Transit Facility.xls       2015-01-08 12:01:24      1574912\n",
      "Database Files/2013 Transit Station.xls        2015-01-08 12:01:46       276992\n",
      "Database Files/2013 Transit Way Mileage.xls    2015-01-08 12:02:06       156672\n",
      "Database Files/2013 Vehicle Maintenance.xls    2015-01-08 12:02:26       239616\n",
      "Rural Tables/2013-R01-Subrecipient-Contact-Info.xls 2015-01-15 15:07:52       674816\n",
      "Rural Tables/2013-R02-Recipient-Contact-Info.xls 2015-01-15 12:34:08        80384\n",
      "Rural Tables/2013-R03-Subrecipient-Financial-Data.xls 2015-03-17 09:57:48      1007616\n",
      "Rural Tables/2013-R04-Subrecipient-Service-Data.xls 2015-03-17 10:00:00       509440\n",
      "Rural Tables/2013-R06-Subrecipient-Revenue-Vehicle-Inventory.xls 2015-03-17 10:22:40      2693120\n",
      "Rural Tables/2013-R07-Recipient-Counties-Served-and-State-Admin.xls 2015-01-15 12:26:02        36352\n",
      "Rural Tables/2013-R08-Subrecipient-Safety-Data.xls 2015-03-17 10:49:02       339968\n",
      "Rural Tables/2013-R09-Subrecipient-Facilities-and-Resources.xls 2015-03-17 13:33:44       367616\n",
      "Rural Tables/2013-R10-Rural-Data-in-Urban-Module.xls 2015-01-15 14:36:32       140288\n"
     ]
    }
   ],
   "source": [
    "zipfile.printdir()"
   ]
  },
  {
   "cell_type": "code",
   "execution_count": null,
   "metadata": {},
   "outputs": [],
   "source": []
  }
 ],
 "metadata": {
  "kernelspec": {
   "display_name": ".venv",
   "language": "python",
   "name": "python3"
  },
  "language_info": {
   "codemirror_mode": {
    "name": "ipython",
    "version": 3
   },
   "file_extension": ".py",
   "mimetype": "text/x-python",
   "name": "python",
   "nbconvert_exporter": "python",
   "pygments_lexer": "ipython3",
   "version": "3.11.3"
  },
  "orig_nbformat": 4
 },
 "nbformat": 4,
 "nbformat_minor": 2
}
