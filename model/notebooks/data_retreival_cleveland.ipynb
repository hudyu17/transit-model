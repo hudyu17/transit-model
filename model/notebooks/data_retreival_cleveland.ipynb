{
 "cells": [
  {
   "attachments": {},
   "cell_type": "markdown",
   "metadata": {},
   "source": [
    "    # Data for Cleveland Healthline ZIP Codes\n",
    "\n",
    "    This notebook retrieves data for the following ZIP Codes near the Cleveland Healthline BRT: `44112, 44104, 44103, 44106, 44114`.\n",
    "\n",
    "    Data Sources from the [American Community Survey](https://data.census.gov/advanced), 2013-2020 (same range as *National Transit Database Tables*)\n",
    "    - Income: `Table S1901`\n",
    "    - Population and Median Age: `Table S1901`\n",
    "    - Household Type (e.g. married couple): `Table S2501`\n",
    "    - Car Ownership: `Table S0802`\n",
    "\n",
    "    Data for the Number of Business Establishments were found in the ECNSVY Business Patterns Survey (table accessible in the same link above)."
   ]
  },
  {
   "cell_type": "code",
   "execution_count": 33,
   "metadata": {},
   "outputs": [],
   "source": [
    "import requests\n",
    "import json\n",
    "import pandas as pd"
   ]
  },
  {
   "attachments": {},
   "cell_type": "markdown",
   "metadata": {},
   "source": [
    "Defining helper functions - TODO: will need to use these in other directories so eventually move this out"
   ]
  },
  {
   "cell_type": "code",
   "execution_count": 34,
   "metadata": {},
   "outputs": [],
   "source": [
    "def fetch_api_data(url: str) -> dict:\n",
    "    \"\"\"\n",
    "    Fetches data from an API endpoint and returns the response in JSON format.\n",
    "\n",
    "    Parameters:\n",
    "    url (str): The URL of the API endpoint to fetch data from.\n",
    "\n",
    "    Returns:\n",
    "    dict: A dictionary containing the JSON response from the API endpoint.\n",
    "    \"\"\"\n",
    "    # make the API request\n",
    "    response = requests.get(url)\n",
    "    \n",
    "    return response.json()\n",
    "\n",
    "# A more comprehensive function - haven't called yet - might actually be too complex\n",
    "def fetch_census_data(years, zipcodes, url, df):\n",
    "    for year in years:\n",
    "        for zipcode in zipcodes:\n",
    "            res = requests.get(url)\n",
    "            res = res.json()\n",
    "\n",
    "            df = pd.DataFrame.from_dict(res)\n",
    "            income = df['response']['data'][1][161]\n",
    "\n",
    "            df.loc[year][zipcode] = income\n"
   ]
  },
  {
   "cell_type": "code",
   "execution_count": 35,
   "metadata": {},
   "outputs": [
    {
     "name": "stdout",
     "output_type": "stream",
     "text": [
      "['2013', '2014', '2015', '2016', '2017', '2018', '2019', '2020']\n"
     ]
    }
   ],
   "source": [
    "# Defining constants\n",
    "\n",
    "years = list(map(str, [x for x in range(2013, 2021)]))\n",
    "print(years)\n",
    "\n",
    "zipcodes = ['44112', '44104', '44103', '44106', '44114']"
   ]
  },
  {
   "attachments": {},
   "cell_type": "markdown",
   "metadata": {},
   "source": [
    "## Income"
   ]
  },
  {
   "cell_type": "code",
   "execution_count": 6,
   "metadata": {},
   "outputs": [
    {
     "name": "stdout",
     "output_type": "stream",
     "text": [
      "     44112 44104 44103 44106 44114\n",
      "2013   NaN   NaN   NaN   NaN   NaN\n",
      "2014   NaN   NaN   NaN   NaN   NaN\n",
      "2015   NaN   NaN   NaN   NaN   NaN\n",
      "2016   NaN   NaN   NaN   NaN   NaN\n",
      "2017   NaN   NaN   NaN   NaN   NaN\n",
      "2018   NaN   NaN   NaN   NaN   NaN\n",
      "2019   NaN   NaN   NaN   NaN   NaN\n",
      "2020   NaN   NaN   NaN   NaN   NaN\n"
     ]
    }
   ],
   "source": [
    "# create the DataFrame using the two arrays as column names\n",
    "df_income = pd.DataFrame(index=years, columns=zipcodes)\n",
    "\n",
    "# print the resulting DataFrame\n",
    "print(df_income)"
   ]
  },
  {
   "cell_type": "code",
   "execution_count": 31,
   "metadata": {},
   "outputs": [],
   "source": [
    "for year in years:\n",
    "    for zipcode in zipcodes:\n",
    "        url = 'https://data.census.gov/api/access/data/table?g=860XX00US{zipcode}&id=ACSST5Y{year}.S1901'.format(zipcode = zipcode, year = year)\n",
    "        res = fetch_api_data(url)\n",
    "\n",
    "        df = pd.DataFrame.from_dict(res)\n",
    "        income = df['response']['data'][1][161]\n",
    "\n",
    "        df_income.loc[year][zipcode] = income\n"
   ]
  },
  {
   "cell_type": "code",
   "execution_count": 32,
   "metadata": {},
   "outputs": [
    {
     "data": {
      "text/html": [
       "<div>\n",
       "<style scoped>\n",
       "    .dataframe tbody tr th:only-of-type {\n",
       "        vertical-align: middle;\n",
       "    }\n",
       "\n",
       "    .dataframe tbody tr th {\n",
       "        vertical-align: top;\n",
       "    }\n",
       "\n",
       "    .dataframe thead th {\n",
       "        text-align: right;\n",
       "    }\n",
       "</style>\n",
       "<table border=\"1\" class=\"dataframe\">\n",
       "  <thead>\n",
       "    <tr style=\"text-align: right;\">\n",
       "      <th></th>\n",
       "      <th>44112</th>\n",
       "      <th>44104</th>\n",
       "      <th>44103</th>\n",
       "      <th>44106</th>\n",
       "      <th>44114</th>\n",
       "    </tr>\n",
       "  </thead>\n",
       "  <tbody>\n",
       "    <tr>\n",
       "      <th>2013</th>\n",
       "      <td>22220</td>\n",
       "      <td>14603</td>\n",
       "      <td>18411</td>\n",
       "      <td>22602</td>\n",
       "      <td>22180</td>\n",
       "    </tr>\n",
       "    <tr>\n",
       "      <th>2014</th>\n",
       "      <td>22548</td>\n",
       "      <td>15204</td>\n",
       "      <td>17616</td>\n",
       "      <td>24065</td>\n",
       "      <td>23013</td>\n",
       "    </tr>\n",
       "    <tr>\n",
       "      <th>2015</th>\n",
       "      <td>21608</td>\n",
       "      <td>14009</td>\n",
       "      <td>17166</td>\n",
       "      <td>23222</td>\n",
       "      <td>21324</td>\n",
       "    </tr>\n",
       "    <tr>\n",
       "      <th>2016</th>\n",
       "      <td>21028</td>\n",
       "      <td>14414</td>\n",
       "      <td>18531</td>\n",
       "      <td>24578</td>\n",
       "      <td>20823</td>\n",
       "    </tr>\n",
       "    <tr>\n",
       "      <th>2017</th>\n",
       "      <td>22147</td>\n",
       "      <td>14646</td>\n",
       "      <td>17867</td>\n",
       "      <td>25892</td>\n",
       "      <td>22304</td>\n",
       "    </tr>\n",
       "    <tr>\n",
       "      <th>2018</th>\n",
       "      <td>22586</td>\n",
       "      <td>15813</td>\n",
       "      <td>19540</td>\n",
       "      <td>26310</td>\n",
       "      <td>25757</td>\n",
       "    </tr>\n",
       "    <tr>\n",
       "      <th>2019</th>\n",
       "      <td>22412</td>\n",
       "      <td>16999</td>\n",
       "      <td>19730</td>\n",
       "      <td>29225</td>\n",
       "      <td>36182</td>\n",
       "    </tr>\n",
       "    <tr>\n",
       "      <th>2020</th>\n",
       "      <td>26236</td>\n",
       "      <td>16650</td>\n",
       "      <td>21468</td>\n",
       "      <td>30669</td>\n",
       "      <td>43159</td>\n",
       "    </tr>\n",
       "  </tbody>\n",
       "</table>\n",
       "</div>"
      ],
      "text/plain": [
       "      44112  44104  44103  44106  44114\n",
       "2013  22220  14603  18411  22602  22180\n",
       "2014  22548  15204  17616  24065  23013\n",
       "2015  21608  14009  17166  23222  21324\n",
       "2016  21028  14414  18531  24578  20823\n",
       "2017  22147  14646  17867  25892  22304\n",
       "2018  22586  15813  19540  26310  25757\n",
       "2019  22412  16999  19730  29225  36182\n",
       "2020  26236  16650  21468  30669  43159"
      ]
     },
     "execution_count": 32,
     "metadata": {},
     "output_type": "execute_result"
    }
   ],
   "source": [
    "df_income # takes ~15s to create\n",
    "\n",
    "# df_income.to_csv('../data/raw/cle/income.csv', index=True)\n"
   ]
  },
  {
   "attachments": {},
   "cell_type": "markdown",
   "metadata": {},
   "source": [
    "## Population and Median Age"
   ]
  },
  {
   "cell_type": "code",
   "execution_count": 12,
   "metadata": {},
   "outputs": [],
   "source": [
    "# create the DataFrame using the two arrays as column names\n",
    "df_pop = pd.DataFrame(index=years, columns=zipcodes)\n",
    "df_age = pd.DataFrame(index=years, columns=zipcodes)"
   ]
  },
  {
   "cell_type": "code",
   "execution_count": 13,
   "metadata": {},
   "outputs": [],
   "source": [
    "for year in years:\n",
    "    for zipcode in zipcodes:\n",
    "        url = 'https://data.census.gov/api/access/data/table?g=860XX00US{zipcode}&id=ACSST5Y{year}.S0101'.format(zipcode = zipcode, year = year)\n",
    "        res = fetch_api_data(url)\n",
    "\n",
    "        df = pd.DataFrame.from_dict(res)\n",
    "\n",
    "        if year in ['2013', '2014', '2015', '2016']:\n",
    "            index = 270\n",
    "        else: \n",
    "            index = 277\n",
    "\n",
    "        pop = df['response']['data'][1][index]\n",
    "\n",
    "        df_pop.loc[year][zipcode] = pop\n"
   ]
  },
  {
   "cell_type": "code",
   "execution_count": 15,
   "metadata": {},
   "outputs": [
    {
     "data": {
      "text/html": [
       "<div>\n",
       "<style scoped>\n",
       "    .dataframe tbody tr th:only-of-type {\n",
       "        vertical-align: middle;\n",
       "    }\n",
       "\n",
       "    .dataframe tbody tr th {\n",
       "        vertical-align: top;\n",
       "    }\n",
       "\n",
       "    .dataframe thead th {\n",
       "        text-align: right;\n",
       "    }\n",
       "</style>\n",
       "<table border=\"1\" class=\"dataframe\">\n",
       "  <thead>\n",
       "    <tr style=\"text-align: right;\">\n",
       "      <th></th>\n",
       "      <th>44112</th>\n",
       "      <th>44104</th>\n",
       "      <th>44103</th>\n",
       "      <th>44106</th>\n",
       "      <th>44114</th>\n",
       "    </tr>\n",
       "  </thead>\n",
       "  <tbody>\n",
       "    <tr>\n",
       "      <th>2013</th>\n",
       "      <td>22593</td>\n",
       "      <td>23307</td>\n",
       "      <td>17990</td>\n",
       "      <td>26373</td>\n",
       "      <td>5130</td>\n",
       "    </tr>\n",
       "    <tr>\n",
       "      <th>2014</th>\n",
       "      <td>22193</td>\n",
       "      <td>22479</td>\n",
       "      <td>17291</td>\n",
       "      <td>26837</td>\n",
       "      <td>5714</td>\n",
       "    </tr>\n",
       "    <tr>\n",
       "      <th>2015</th>\n",
       "      <td>22465</td>\n",
       "      <td>22165</td>\n",
       "      <td>16456</td>\n",
       "      <td>25805</td>\n",
       "      <td>6474</td>\n",
       "    </tr>\n",
       "    <tr>\n",
       "      <th>2016</th>\n",
       "      <td>22283</td>\n",
       "      <td>21351</td>\n",
       "      <td>16813</td>\n",
       "      <td>25557</td>\n",
       "      <td>6447</td>\n",
       "    </tr>\n",
       "    <tr>\n",
       "      <th>2017</th>\n",
       "      <td>21788</td>\n",
       "      <td>20541</td>\n",
       "      <td>16486</td>\n",
       "      <td>25836</td>\n",
       "      <td>6714</td>\n",
       "    </tr>\n",
       "    <tr>\n",
       "      <th>2018</th>\n",
       "      <td>21909</td>\n",
       "      <td>19640</td>\n",
       "      <td>16519</td>\n",
       "      <td>25752</td>\n",
       "      <td>6567</td>\n",
       "    </tr>\n",
       "    <tr>\n",
       "      <th>2019</th>\n",
       "      <td>21666</td>\n",
       "      <td>19814</td>\n",
       "      <td>15938</td>\n",
       "      <td>25309</td>\n",
       "      <td>6896</td>\n",
       "    </tr>\n",
       "    <tr>\n",
       "      <th>2020</th>\n",
       "      <td>21251</td>\n",
       "      <td>19295</td>\n",
       "      <td>15711</td>\n",
       "      <td>25658</td>\n",
       "      <td>6671</td>\n",
       "    </tr>\n",
       "  </tbody>\n",
       "</table>\n",
       "</div>"
      ],
      "text/plain": [
       "      44112  44104  44103  44106 44114\n",
       "2013  22593  23307  17990  26373  5130\n",
       "2014  22193  22479  17291  26837  5714\n",
       "2015  22465  22165  16456  25805  6474\n",
       "2016  22283  21351  16813  25557  6447\n",
       "2017  21788  20541  16486  25836  6714\n",
       "2018  21909  19640  16519  25752  6567\n",
       "2019  21666  19814  15938  25309  6896\n",
       "2020  21251  19295  15711  25658  6671"
      ]
     },
     "execution_count": 15,
     "metadata": {},
     "output_type": "execute_result"
    }
   ],
   "source": [
    "df_pop"
   ]
  },
  {
   "cell_type": "code",
   "execution_count": 14,
   "metadata": {},
   "outputs": [],
   "source": [
    "# 37.2s\n",
    "\n",
    "df_pop.to_csv('../data/raw/cle/pop.csv', index=True)"
   ]
  },
  {
   "cell_type": "code",
   "execution_count": 16,
   "metadata": {},
   "outputs": [],
   "source": [
    "for year in years:\n",
    "    for zipcode in zipcodes:\n",
    "        url = 'https://data.census.gov/api/access/data/table?g=860XX00US{zipcode}&id=ACSST5Y{year}.S0101'.format(zipcode = zipcode, year = year)\n",
    "        res = fetch_api_data(url)\n",
    "\n",
    "        df = pd.DataFrame.from_dict(res)\n",
    "\n",
    "        if year in ['2013', '2014', '2015', '2016']:\n",
    "            index = 140\n",
    "        else: \n",
    "            index = 111\n",
    "\n",
    "        age = df['response']['data'][1][index]\n",
    "\n",
    "        df_age.loc[year][zipcode] = age\n"
   ]
  },
  {
   "cell_type": "code",
   "execution_count": 17,
   "metadata": {},
   "outputs": [
    {
     "data": {
      "text/html": [
       "<div>\n",
       "<style scoped>\n",
       "    .dataframe tbody tr th:only-of-type {\n",
       "        vertical-align: middle;\n",
       "    }\n",
       "\n",
       "    .dataframe tbody tr th {\n",
       "        vertical-align: top;\n",
       "    }\n",
       "\n",
       "    .dataframe thead th {\n",
       "        text-align: right;\n",
       "    }\n",
       "</style>\n",
       "<table border=\"1\" class=\"dataframe\">\n",
       "  <thead>\n",
       "    <tr style=\"text-align: right;\">\n",
       "      <th></th>\n",
       "      <th>44112</th>\n",
       "      <th>44104</th>\n",
       "      <th>44103</th>\n",
       "      <th>44106</th>\n",
       "      <th>44114</th>\n",
       "    </tr>\n",
       "  </thead>\n",
       "  <tbody>\n",
       "    <tr>\n",
       "      <th>2013</th>\n",
       "      <td>41.8</td>\n",
       "      <td>28.6</td>\n",
       "      <td>41.7</td>\n",
       "      <td>28.7</td>\n",
       "      <td>32.9</td>\n",
       "    </tr>\n",
       "    <tr>\n",
       "      <th>2014</th>\n",
       "      <td>42.8</td>\n",
       "      <td>28.0</td>\n",
       "      <td>41.1</td>\n",
       "      <td>28.2</td>\n",
       "      <td>32.4</td>\n",
       "    </tr>\n",
       "    <tr>\n",
       "      <th>2015</th>\n",
       "      <td>42.7</td>\n",
       "      <td>28.2</td>\n",
       "      <td>41.6</td>\n",
       "      <td>28.3</td>\n",
       "      <td>34.2</td>\n",
       "    </tr>\n",
       "    <tr>\n",
       "      <th>2016</th>\n",
       "      <td>43.1</td>\n",
       "      <td>29.2</td>\n",
       "      <td>40.4</td>\n",
       "      <td>28.3</td>\n",
       "      <td>33.4</td>\n",
       "    </tr>\n",
       "    <tr>\n",
       "      <th>2017</th>\n",
       "      <td>43.0</td>\n",
       "      <td>28.5</td>\n",
       "      <td>41.4</td>\n",
       "      <td>28.6</td>\n",
       "      <td>33.5</td>\n",
       "    </tr>\n",
       "    <tr>\n",
       "      <th>2018</th>\n",
       "      <td>42.8</td>\n",
       "      <td>29.2</td>\n",
       "      <td>40.4</td>\n",
       "      <td>28.3</td>\n",
       "      <td>34.3</td>\n",
       "    </tr>\n",
       "    <tr>\n",
       "      <th>2019</th>\n",
       "      <td>42.8</td>\n",
       "      <td>30.7</td>\n",
       "      <td>42.3</td>\n",
       "      <td>28.5</td>\n",
       "      <td>33.9</td>\n",
       "    </tr>\n",
       "    <tr>\n",
       "      <th>2020</th>\n",
       "      <td>41.8</td>\n",
       "      <td>30.7</td>\n",
       "      <td>40.1</td>\n",
       "      <td>30.6</td>\n",
       "      <td>33.0</td>\n",
       "    </tr>\n",
       "  </tbody>\n",
       "</table>\n",
       "</div>"
      ],
      "text/plain": [
       "     44112 44104 44103 44106 44114\n",
       "2013  41.8  28.6  41.7  28.7  32.9\n",
       "2014  42.8  28.0  41.1  28.2  32.4\n",
       "2015  42.7  28.2  41.6  28.3  34.2\n",
       "2016  43.1  29.2  40.4  28.3  33.4\n",
       "2017  43.0  28.5  41.4  28.6  33.5\n",
       "2018  42.8  29.2  40.4  28.3  34.3\n",
       "2019  42.8  30.7  42.3  28.5  33.9\n",
       "2020  41.8  30.7  40.1  30.6  33.0"
      ]
     },
     "execution_count": 17,
     "metadata": {},
     "output_type": "execute_result"
    }
   ],
   "source": [
    "df_age"
   ]
  },
  {
   "cell_type": "code",
   "execution_count": 18,
   "metadata": {},
   "outputs": [],
   "source": [
    "df_age.to_csv('../data/raw/cle/age.csv', index=True)"
   ]
  },
  {
   "attachments": {},
   "cell_type": "markdown",
   "metadata": {},
   "source": [
    "## Houshold Type\n",
    "e.g. Married, Single"
   ]
  },
  {
   "cell_type": "code",
   "execution_count": 20,
   "metadata": {},
   "outputs": [],
   "source": [
    "df_house_married = pd.DataFrame(index=years, columns=zipcodes)\n",
    "df_house_nonfam = pd.DataFrame(index=years, columns=zipcodes)\n",
    "df_house_m_single = pd.DataFrame(index=years, columns=zipcodes)\n",
    "df_house_f_single = pd.DataFrame(index=years, columns=zipcodes)\n",
    "\n",
    "house_index = {'Married': 0, 'Nonfamily': 0, 'SingleMale': 0, 'SingleFemale': 0}"
   ]
  },
  {
   "cell_type": "code",
   "execution_count": 21,
   "metadata": {},
   "outputs": [],
   "source": [
    "for year in years:\n",
    "    for zipcode in zipcodes:\n",
    "        url = 'https://data.census.gov/api/access/data/table?id=ACSST5Y{year}.S2501&g=860XX00US{zipcode}'.format(zipcode = zipcode, year = year)\n",
    "        res = fetch_api_data(url)\n",
    "\n",
    "        df = pd.DataFrame.from_dict(res)\n",
    "\n",
    "        if year in ['2013', '2014', '2015', '2016']:\n",
    "            house_index['Married'] = 31\n",
    "            house_index['Nonfamily'] = 11\n",
    "            house_index['SingleMale'] = 174\n",
    "            house_index['SingleFemale'] = 118\n",
    "        else: \n",
    "            house_index['Married'] = 863\n",
    "            house_index['Nonfamily'] = 346\n",
    "            house_index['SingleMale'] = 877\n",
    "            house_index['SingleFemale'] = 13\n",
    "\n",
    "        df_house_married.loc[year][zipcode] = df['response']['data'][1][house_index['Married']]\n",
    "        df_house_nonfam.loc[year][zipcode] = df['response']['data'][1][house_index['Nonfamily']]\n",
    "        df_house_m_single.loc[year][zipcode] = df['response']['data'][1][house_index['SingleMale']]\n",
    "        df_house_f_single.loc[year][zipcode] = df['response']['data'][1][house_index['SingleFemale']]"
   ]
  },
  {
   "cell_type": "code",
   "execution_count": 23,
   "metadata": {},
   "outputs": [
    {
     "data": {
      "text/html": [
       "<div>\n",
       "<style scoped>\n",
       "    .dataframe tbody tr th:only-of-type {\n",
       "        vertical-align: middle;\n",
       "    }\n",
       "\n",
       "    .dataframe tbody tr th {\n",
       "        vertical-align: top;\n",
       "    }\n",
       "\n",
       "    .dataframe thead th {\n",
       "        text-align: right;\n",
       "    }\n",
       "</style>\n",
       "<table border=\"1\" class=\"dataframe\">\n",
       "  <thead>\n",
       "    <tr style=\"text-align: right;\">\n",
       "      <th></th>\n",
       "      <th>44112</th>\n",
       "      <th>44104</th>\n",
       "      <th>44103</th>\n",
       "      <th>44106</th>\n",
       "      <th>44114</th>\n",
       "    </tr>\n",
       "  </thead>\n",
       "  <tbody>\n",
       "    <tr>\n",
       "      <th>2013</th>\n",
       "      <td>5.8</td>\n",
       "      <td>6.5</td>\n",
       "      <td>5.0</td>\n",
       "      <td>2.7</td>\n",
       "      <td>2.2</td>\n",
       "    </tr>\n",
       "    <tr>\n",
       "      <th>2014</th>\n",
       "      <td>5.7</td>\n",
       "      <td>7.1</td>\n",
       "      <td>4.0</td>\n",
       "      <td>2.5</td>\n",
       "      <td>1.6</td>\n",
       "    </tr>\n",
       "    <tr>\n",
       "      <th>2015</th>\n",
       "      <td>5.5</td>\n",
       "      <td>6.5</td>\n",
       "      <td>3.2</td>\n",
       "      <td>2.0</td>\n",
       "      <td>4.4</td>\n",
       "    </tr>\n",
       "    <tr>\n",
       "      <th>2016</th>\n",
       "      <td>5.2</td>\n",
       "      <td>6.7</td>\n",
       "      <td>4.7</td>\n",
       "      <td>1.8</td>\n",
       "      <td>4.8</td>\n",
       "    </tr>\n",
       "    <tr>\n",
       "      <th>2017</th>\n",
       "      <td>5.1</td>\n",
       "      <td>5.7</td>\n",
       "      <td>4.7</td>\n",
       "      <td>2.0</td>\n",
       "      <td>3.9</td>\n",
       "    </tr>\n",
       "    <tr>\n",
       "      <th>2018</th>\n",
       "      <td>6.3</td>\n",
       "      <td>5.1</td>\n",
       "      <td>5.8</td>\n",
       "      <td>2.2</td>\n",
       "      <td>4.2</td>\n",
       "    </tr>\n",
       "    <tr>\n",
       "      <th>2019</th>\n",
       "      <td>6.4</td>\n",
       "      <td>4.4</td>\n",
       "      <td>5.0</td>\n",
       "      <td>2.3</td>\n",
       "      <td>4.0</td>\n",
       "    </tr>\n",
       "    <tr>\n",
       "      <th>2020</th>\n",
       "      <td>9.8</td>\n",
       "      <td>4.3</td>\n",
       "      <td>4.9</td>\n",
       "      <td>2.4</td>\n",
       "      <td>1.0</td>\n",
       "    </tr>\n",
       "  </tbody>\n",
       "</table>\n",
       "</div>"
      ],
      "text/plain": [
       "     44112 44104 44103 44106 44114\n",
       "2013   5.8   6.5   5.0   2.7   2.2\n",
       "2014   5.7   7.1   4.0   2.5   1.6\n",
       "2015   5.5   6.5   3.2   2.0   4.4\n",
       "2016   5.2   6.7   4.7   1.8   4.8\n",
       "2017   5.1   5.7   4.7   2.0   3.9\n",
       "2018   6.3   5.1   5.8   2.2   4.2\n",
       "2019   6.4   4.4   5.0   2.3   4.0\n",
       "2020   9.8   4.3   4.9   2.4   1.0"
      ]
     },
     "execution_count": 23,
     "metadata": {},
     "output_type": "execute_result"
    }
   ],
   "source": [
    "# df_house_married\n",
    "# df_house_nonfam\n",
    "df_house_m_single\n",
    "# df_house_f_single"
   ]
  },
  {
   "cell_type": "code",
   "execution_count": 24,
   "metadata": {},
   "outputs": [],
   "source": [
    "df_house_married.to_csv('../data/raw/cle/house_married.csv', index=True)\n",
    "df_house_nonfam.to_csv('../data/raw/cle/house_nonfam.csv', index=True)\n",
    "df_house_m_single.to_csv('../data/raw/cle/house_m_single.csv', index=True)\n",
    "df_house_f_single.to_csv('../data/raw/cle/house_f_single.csv', index=True)"
   ]
  },
  {
   "attachments": {},
   "cell_type": "markdown",
   "metadata": {},
   "source": [
    "## Car Ownership"
   ]
  },
  {
   "cell_type": "code",
   "execution_count": 36,
   "metadata": {},
   "outputs": [],
   "source": [
    "df_car = pd.DataFrame(index=years, columns=zipcodes)\n",
    "\n",
    "for year in years:\n",
    "    for zipcode in zipcodes:\n",
    "        url = 'https://data.census.gov/api/access/data/table?g=860XX00US{zipcode}&id=ACSST5Y{year}.S0802'.format(zipcode = zipcode, year = year)\n",
    "        res = fetch_api_data(url)\n",
    "\n",
    "        df = pd.DataFrame.from_dict(res)\n",
    "\n",
    "        df_car.loc[year][zipcode] = df['response']['data'][1][114]"
   ]
  },
  {
   "cell_type": "code",
   "execution_count": 38,
   "metadata": {},
   "outputs": [
    {
     "data": {
      "text/html": [
       "<div>\n",
       "<style scoped>\n",
       "    .dataframe tbody tr th:only-of-type {\n",
       "        vertical-align: middle;\n",
       "    }\n",
       "\n",
       "    .dataframe tbody tr th {\n",
       "        vertical-align: top;\n",
       "    }\n",
       "\n",
       "    .dataframe thead th {\n",
       "        text-align: right;\n",
       "    }\n",
       "</style>\n",
       "<table border=\"1\" class=\"dataframe\">\n",
       "  <thead>\n",
       "    <tr style=\"text-align: right;\">\n",
       "      <th></th>\n",
       "      <th>44112</th>\n",
       "      <th>44104</th>\n",
       "      <th>44103</th>\n",
       "      <th>44106</th>\n",
       "      <th>44114</th>\n",
       "    </tr>\n",
       "  </thead>\n",
       "  <tbody>\n",
       "    <tr>\n",
       "      <th>2013</th>\n",
       "      <td>53.9</td>\n",
       "      <td>68.0</td>\n",
       "      <td>51.3</td>\n",
       "      <td>71.2</td>\n",
       "      <td>60.7</td>\n",
       "    </tr>\n",
       "    <tr>\n",
       "      <th>2014</th>\n",
       "      <td>60.9</td>\n",
       "      <td>72.2</td>\n",
       "      <td>54.7</td>\n",
       "      <td>62.2</td>\n",
       "      <td>72.9</td>\n",
       "    </tr>\n",
       "    <tr>\n",
       "      <th>2015</th>\n",
       "      <td>54.5</td>\n",
       "      <td>67.9</td>\n",
       "      <td>52.2</td>\n",
       "      <td>59.4</td>\n",
       "      <td>64.9</td>\n",
       "    </tr>\n",
       "    <tr>\n",
       "      <th>2016</th>\n",
       "      <td>54.1</td>\n",
       "      <td>61.5</td>\n",
       "      <td>47.4</td>\n",
       "      <td>59.2</td>\n",
       "      <td>72.0</td>\n",
       "    </tr>\n",
       "    <tr>\n",
       "      <th>2017</th>\n",
       "      <td>47.8</td>\n",
       "      <td>61.1</td>\n",
       "      <td>46.8</td>\n",
       "      <td>61.3</td>\n",
       "      <td>77.8</td>\n",
       "    </tr>\n",
       "    <tr>\n",
       "      <th>2018</th>\n",
       "      <td>51.1</td>\n",
       "      <td>66.5</td>\n",
       "      <td>48.1</td>\n",
       "      <td>61.8</td>\n",
       "      <td>73.6</td>\n",
       "    </tr>\n",
       "    <tr>\n",
       "      <th>2019</th>\n",
       "      <td>58.2</td>\n",
       "      <td>61.8</td>\n",
       "      <td>44.2</td>\n",
       "      <td>71.5</td>\n",
       "      <td>79.3</td>\n",
       "    </tr>\n",
       "    <tr>\n",
       "      <th>2020</th>\n",
       "      <td>56.6</td>\n",
       "      <td>68.3</td>\n",
       "      <td>48.4</td>\n",
       "      <td>73.7</td>\n",
       "      <td>69.9</td>\n",
       "    </tr>\n",
       "  </tbody>\n",
       "</table>\n",
       "</div>"
      ],
      "text/plain": [
       "     44112 44104 44103 44106 44114\n",
       "2013  53.9  68.0  51.3  71.2  60.7\n",
       "2014  60.9  72.2  54.7  62.2  72.9\n",
       "2015  54.5  67.9  52.2  59.4  64.9\n",
       "2016  54.1  61.5  47.4  59.2  72.0\n",
       "2017  47.8  61.1  46.8  61.3  77.8\n",
       "2018  51.1  66.5  48.1  61.8  73.6\n",
       "2019  58.2  61.8  44.2  71.5  79.3\n",
       "2020  56.6  68.3  48.4  73.7  69.9"
      ]
     },
     "execution_count": 38,
     "metadata": {},
     "output_type": "execute_result"
    }
   ],
   "source": [
    "# 1 min\n",
    "df_car"
   ]
  },
  {
   "cell_type": "code",
   "execution_count": 27,
   "metadata": {},
   "outputs": [],
   "source": [
    "df_car.to_csv('../data/raw/cle/car.csv', index=True)"
   ]
  },
  {
   "attachments": {},
   "cell_type": "markdown",
   "metadata": {},
   "source": [
    "## Number of businesses"
   ]
  },
  {
   "cell_type": "code",
   "execution_count": 28,
   "metadata": {},
   "outputs": [],
   "source": [
    "df_biz = pd.DataFrame(index=years, columns=zipcodes)\n",
    "\n",
    "# data for this table only until 2018\n",
    "for year in years[:6]:\n",
    "    for zipcode in zipcodes:\n",
    "        url = 'https://data.census.gov/api/access/data/table?id=ZBP{year}.CB{year_short}00ZBP&g=860XX00US{zipcode}'.format(zipcode = zipcode, year = year, year_short = year[2:])\n",
    "        res = fetch_api_data(url)\n",
    "\n",
    "        df = pd.DataFrame.from_dict(res)\n",
    "\n",
    "        df_biz.loc[year][zipcode] = df['response']['data'][1][15]"
   ]
  },
  {
   "cell_type": "code",
   "execution_count": 30,
   "metadata": {},
   "outputs": [],
   "source": [
    "df_biz\n",
    "\n",
    "df_biz.to_csv('../data/raw/cle/biz.csv', index=True)"
   ]
  },
  {
   "attachments": {},
   "cell_type": "markdown",
   "metadata": {},
   "source": [
    "## Rough work below"
   ]
  },
  {
   "cell_type": "code",
   "execution_count": 3,
   "metadata": {},
   "outputs": [],
   "source": [
    "zipcode = '44112'\n",
    "year = '2011'\n",
    "\n",
    "cleveland_income = 'https://data.census.gov/api/access/data/table?g=860XX00US{zipcode}&id=ACSST5Y{year}.S1901'.format(zipcode = zipcode, year = year)\n"
   ]
  },
  {
   "cell_type": "code",
   "execution_count": 11,
   "metadata": {},
   "outputs": [
    {
     "data": {
      "text/plain": [
       "'24312'"
      ]
     },
     "execution_count": 11,
     "metadata": {},
     "output_type": "execute_result"
    }
   ],
   "source": [
    "res = fetch_api_data(cleveland_income)\n",
    "\n",
    "df = pd.DataFrame.from_dict(res)\n",
    "\n",
    "df['response']['data'][1][161]"
   ]
  },
  {
   "cell_type": "code",
   "execution_count": null,
   "metadata": {},
   "outputs": [],
   "source": []
  }
 ],
 "metadata": {
  "kernelspec": {
   "display_name": ".venv",
   "language": "python",
   "name": "python3"
  },
  "language_info": {
   "codemirror_mode": {
    "name": "ipython",
    "version": 3
   },
   "file_extension": ".py",
   "mimetype": "text/x-python",
   "name": "python",
   "nbconvert_exporter": "python",
   "pygments_lexer": "ipython3",
   "version": "3.11.3"
  },
  "orig_nbformat": 4
 },
 "nbformat": 4,
 "nbformat_minor": 2
}
